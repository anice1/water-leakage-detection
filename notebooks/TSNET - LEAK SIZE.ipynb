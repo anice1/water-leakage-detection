{
 "cells": [
  {
   "cell_type": "code",
   "execution_count": 19,
   "id": "357be2ac",
   "metadata": {},
   "outputs": [],
   "source": [
    "import matplotlib.pyplot as plt\n",
    "from pprint import pprint\n",
    "import pandas as pd\n",
    "import numpy as np\n",
    "import pygad\n",
    "import tsnet\n",
    "import numpy\n",
    "import shutil\n",
    "import glob\n",
    "import os"
   ]
  },
  {
   "cell_type": "code",
   "execution_count": 20,
   "id": "827e5c58",
   "metadata": {},
   "outputs": [],
   "source": [
    "import warnings\n",
    "warnings.filterwarnings('ignore')\n",
    "plt.rcParams['figure.figsize'] = (9,6)"
   ]
  },
  {
   "cell_type": "code",
   "execution_count": 22,
   "id": "45e7b14a",
   "metadata": {},
   "outputs": [
    {
     "name": "stdout",
     "output_type": "stream",
     "text": [
      "Folders Deleted\n"
     ]
    }
   ],
   "source": [
    "try:\n",
    "    shutil.rmtree('../tsnet_results/leak_size_results/add_leak_node6/temp')\n",
    "    shutil.rmtree('../tsnet_results/leak_size_results/add_leak_node6/plots')\n",
    "    print('Folders Deleted')\n",
    "except FileNotFoundError as e:\n",
    "    print(e)\n",
    "\n",
    "# recreate deleted folders\n",
    "os.makedirs('../tsnet_results/leak_size_results/add_leak_node6/temp')\n",
    "os.makedirs('../tsnet_results/leak_size_results/add_leak_node6/plots')"
   ]
  },
  {
   "cell_type": "code",
   "execution_count": 123,
   "id": "b0c8d822",
   "metadata": {},
   "outputs": [],
   "source": [
    "class Setup:\n",
    "    \n",
    "    #Data path\n",
    "    inp_file = '../data/Real_Synthetic_Net.inp'\n",
    "    emitter_coefficient = .05\n",
    "    \n",
    "    #Pygad Parameters\n",
    "    function_inputs = [.5, 1]\n",
    "    num_generations=100\n",
    "    num_parents_mating=1\n",
    "    sol_per_pop=30\n",
    "    num_genes = len(function_inputs)\n",
    "    mutation_type= \"adaptive\"\n",
    "    mutation_num_genes=(1, 1)\n",
    "    \n",
    "    start_node = 'N6'\n",
    "    "
   ]
  },
  {
   "cell_type": "code",
   "execution_count": 205,
   "id": "4073a1da",
   "metadata": {},
   "outputs": [],
   "source": [
    "class TransientModel_(Setup):\n",
    "    \n",
    "    def __init__(self, node):\n",
    "        \n",
    "        # Check if node is junction_name \n",
    "        tm = tsnet.network.model.TransientModel(self.inp_file)\n",
    "        self.node = node\n",
    "        \n",
    "        #Setup all neccessary folders we need to work with, i.e. create them if they don't exist\n",
    "        if not os.path.exists('../tsnet_results/leak_size_results/add_leak_node6/temp/solutions_for_'+self.node):\n",
    "            os.mkdir('../tsnet_results/leak_size_results/add_leak_node6/temp/solutions_for_'+self.node)\n",
    "            \n",
    "        if not os.path.exists('../tsnet_results/leak_size_results/add_leak_node6/plots/plots_for_'+self.node):\n",
    "            os.mkdir('../tsnet_results/leak_size_results/add_leak_node6/plots/plots_for_'+self.node)\n",
    "        \n",
    "        if not os.path.exists('../tsnet_results/leak_size_results/add_leak_node6/merged_results/'):\n",
    "            os.mkdir('../tsnet_results/leak_size_results/add_leak_node6/merged_results/')\n",
    "            \n",
    "        self.temp_dir = '../tsnet_results/leak_size_results/add_leak_node6/temp/solutions_for_'+self.node\n",
    "        self.plots_dir = '../tsnet_results/leak_size_results/add_leak_node6/plots/plots_for_'+self.node\n",
    "        self.merged_results = '../tsnet_results/leak_size_results/add_leak_node6/merged_results/'\n",
    "        \n",
    "       \n",
    "    def change_discharge_coefficient(self, tm, emitter_value, plot_graph=False):\n",
    "        \"\"\"\n",
    "        This function changes the emitter coefficient for selected node in the network, and create a \n",
    "        structured representation of our data, a csv.\n",
    "        \n",
    "        parameters\n",
    "        ----------\n",
    "        wn: wntr network object\n",
    "        emitter_value: the emitter coefficient value\n",
    "        \"\"\"\n",
    "        \n",
    "#         if emitter_value>1:\n",
    "#             emitter_value=emitter_value%1\n",
    "            \n",
    "        # Change emitter coefficient\n",
    "        tm.add_leak(self.node, self.emitter_coefficient)\n",
    "        return self.simulate(tm, plot_graph=plot_graph)\n",
    "        \n",
    "    def simulate(self, tm, plot_graph=False):\n",
    "        # Add leak and simulate\n",
    "       \n",
    "        # Set wavespeed\n",
    "        tm.set_wavespeed(1000.) # m/s\n",
    "\n",
    "        # Set time options\n",
    "        tf = 290 # simulation period [s]\n",
    "        tm.set_time(tf)\n",
    "        \n",
    "        # Set valve closure\n",
    "        ts = 200 # valve closure start time [s] --> It needs 500s to warm-up.\n",
    "        tc = 1 # valve closure period [s]\n",
    "        se = 0 # end open percentage [s]\n",
    "        m = 2 # closure constant [dimensionless]\n",
    "        tm.valve_closure('V1',[tc,ts,se,m])\n",
    "\n",
    "        # Initialize steady state simulation\n",
    "        t0=0\n",
    "        tm = tsnet.simulation.Initializer(tm,t0)\n",
    "\n",
    "        # Transient simulation\n",
    "        tm = tsnet.simulation.MOCSimulator(tm)\n",
    "\n",
    "        # Results\n",
    "        node = tm.get_node(self.node)\n",
    "        x = node.head - node.elevation\n",
    "        \n",
    "        if plot_graph:\n",
    "            plt.plot(x[:])\n",
    "            plt.plot(x[0:1])\n",
    "            time_window = range(1)\n",
    "\n",
    "            # plot the artificial leak\n",
    "            measurements = np.zeros((len(time_window),2))\n",
    "            np.shape(measurements)\n",
    "            measurements[:,0] = time_window * tm.simulation_timestamps[1]\n",
    "            measurements[:,1] = x[0:1]\n",
    "            plt.plot(measurements[:,0],measurements[:,1])\n",
    "            plt.title('measured leak')\n",
    "            plt.ylabel('Pressure (mwc)')\n",
    "            plt.xlabel('time (s)')\n",
    "            plt.savefig(self.plots_dir+'/observed_pressure_node_'+self.node+'.png')\n",
    "            plt.show();\n",
    "        \n",
    "        return x\n",
    "    \n",
    "    def summary(self, x):\n",
    "        return pd.Series(x).to_frame()\n",
    "    "
   ]
  },
  {
   "cell_type": "code",
   "execution_count": 206,
   "id": "95229494",
   "metadata": {
    "scrolled": true
   },
   "outputs": [
    {
     "name": "stdout",
     "output_type": "stream",
     "text": [
      "Simulation time step 0.25619 s\n",
      "Total Time Step in this simulation 1131\n",
      "Initial condition discrepancy of pressure (1.1623 m) on the N15 node\n",
      "Initial condition discrepancy of pressure (2.8745 m) on the N16 node\n",
      "Estimated simulation time 0:00:04.718532\n",
      "Transient simulation completed 9 %...\n",
      "Transient simulation completed 19 %...\n",
      "Transient simulation completed 29 %...\n",
      "Transient simulation completed 39 %...\n",
      "Transient simulation completed 49 %...\n",
      "Transient simulation completed 59 %...\n",
      "Transient simulation completed 69 %...\n",
      "Transient simulation completed 79 %...\n",
      "Transient simulation completed 89 %...\n",
      "Transient simulation completed 99 %...\n"
     ]
    },
    {
     "data": {
      "image/png": "[encoded data removed]",
      "text/plain": [
       "<Figure size 648x432 with 1 Axes>"
      ]
     },
     "metadata": {
      "needs_background": "light"
     },
     "output_type": "display_data"
    }
   ],
   "source": [
    "Setup.start_node = 'N6'\n",
    "ts_model = TransientModel_(node=Setup.start_node)\n",
    "tm = tsnet.network.TransientModel(ts_model.inp_file)\n",
    "observed_pressure = ts_model.simulate(tm, plot_graph=True)"
   ]
  },
  {
   "cell_type": "code",
   "execution_count": 189,
   "id": "e1c4f4e4",
   "metadata": {},
   "outputs": [
    {
     "data": {
      "text/html": [
       "<div>\n",
       "<style scoped>\n",
       "    .dataframe tbody tr th:only-of-type {\n",
       "        vertical-align: middle;\n",
       "    }\n",
       "\n",
       "    .dataframe tbody tr th {\n",
       "        vertical-align: top;\n",
       "    }\n",
       "\n",
       "    .dataframe thead th {\n",
       "        text-align: right;\n",
       "    }\n",
       "</style>\n",
       "<table border=\"1\" class=\"dataframe\">\n",
       "  <thead>\n",
       "    <tr style=\"text-align: right;\">\n",
       "      <th></th>\n",
       "      <th>0</th>\n",
       "    </tr>\n",
       "  </thead>\n",
       "  <tbody>\n",
       "    <tr>\n",
       "      <th>0</th>\n",
       "      <td>26.618050</td>\n",
       "    </tr>\n",
       "    <tr>\n",
       "      <th>1</th>\n",
       "      <td>26.617952</td>\n",
       "    </tr>\n",
       "    <tr>\n",
       "      <th>2</th>\n",
       "      <td>26.617879</td>\n",
       "    </tr>\n",
       "    <tr>\n",
       "      <th>3</th>\n",
       "      <td>26.617807</td>\n",
       "    </tr>\n",
       "    <tr>\n",
       "      <th>4</th>\n",
       "      <td>26.617734</td>\n",
       "    </tr>\n",
       "    <tr>\n",
       "      <th>...</th>\n",
       "      <td>...</td>\n",
       "    </tr>\n",
       "    <tr>\n",
       "      <th>1048</th>\n",
       "      <td>26.720825</td>\n",
       "    </tr>\n",
       "    <tr>\n",
       "      <th>1049</th>\n",
       "      <td>26.781780</td>\n",
       "    </tr>\n",
       "    <tr>\n",
       "      <th>1050</th>\n",
       "      <td>26.781789</td>\n",
       "    </tr>\n",
       "    <tr>\n",
       "      <th>1051</th>\n",
       "      <td>26.796748</td>\n",
       "    </tr>\n",
       "    <tr>\n",
       "      <th>1052</th>\n",
       "      <td>26.796731</td>\n",
       "    </tr>\n",
       "  </tbody>\n",
       "</table>\n",
       "<p>1053 rows × 1 columns</p>\n",
       "</div>"
      ],
      "text/plain": [
       "              0\n",
       "0     26.618050\n",
       "1     26.617952\n",
       "2     26.617879\n",
       "3     26.617807\n",
       "4     26.617734\n",
       "...         ...\n",
       "1048  26.720825\n",
       "1049  26.781780\n",
       "1050  26.781789\n",
       "1051  26.796748\n",
       "1052  26.796731\n",
       "\n",
       "[1053 rows x 1 columns]"
      ]
     },
     "execution_count": 189,
     "metadata": {},
     "output_type": "execute_result"
    }
   ],
   "source": [
    "# Get the summary statistics of after simulation for Node 6\n",
    "ts_model.summary(observed_pressure)"
   ]
  },
  {
   "cell_type": "code",
   "execution_count": 190,
   "id": "ffa1f21e",
   "metadata": {
    "scrolled": true
   },
   "outputs": [
    {
     "name": "stdout",
     "output_type": "stream",
     "text": [
      "Simulation time step 0.25619 s\n",
      "Total Time Step in this simulation 1053\n",
      "Initial condition discrepancy of pressure (-25.3469 m) on the N6 node\n",
      "Initial condition discrepancy of pressure (-25.3469 m) on the N6 node\n",
      "Initial condition discrepancy of pressure (-25.3469 m) on the N6 node\n",
      "Initial condition discrepancy of pressure (1.1623 m) on the N15 node\n",
      "Initial condition discrepancy of pressure (2.8745 m) on the N16 node\n",
      "Estimated simulation time 0:00:04.572126\n",
      "Transient simulation completed 9 %...\n",
      "Transient simulation completed 19 %...\n",
      "Transient simulation completed 29 %...\n",
      "Transient simulation completed 39 %...\n",
      "Transient simulation completed 49 %...\n",
      "Transient simulation completed 59 %...\n",
      "Transient simulation completed 69 %...\n",
      "Transient simulation completed 79 %...\n",
      "Transient simulation completed 89 %...\n",
      "Transient simulation completed 99 %...\n"
     ]
    },
    {
     "data": {
      "image/png": "[encoded data removed]",
      "text/plain": [
       "<Figure size 648x432 with 1 Axes>"
      ]
     },
     "metadata": {
      "needs_background": "light"
     },
     "output_type": "display_data"
    }
   ],
   "source": [
    "# Add Leak To Node 6 and Re-Simulate\n",
    "Setup.start_node = 'N6'\n",
    "ts_model = TransientModel_(node=Setup.start_node)\n",
    "tm = tsnet.network.TransientModel(ts_model.inp_file)\n",
    "simulated_pressure = ts_model.change_discharge_coefficient(tm, ts_model.emitter_coefficient, plot_graph=True)"
   ]
  },
  {
   "cell_type": "code",
   "execution_count": 192,
   "id": "238ffe69",
   "metadata": {},
   "outputs": [
    {
     "data": {
      "text/plain": [
       "<AxesSubplot:>"
      ]
     },
     "execution_count": 192,
     "metadata": {},
     "output_type": "execute_result"
    },
    {
     "data": {
      "image/png": "[encoded data removed]",
      "text/plain": [
       "<Figure size 648x432 with 1 Axes>"
      ]
     },
     "metadata": {
      "needs_background": "light"
     },
     "output_type": "display_data"
    }
   ],
   "source": [
    "# Get the summary statistics of after adding leak for Node 6\n",
    "simulated_pressure_summary = ts_model.summary(simulated_pressure)\n",
    "simulated_pressure_summary.plot()"
   ]
  },
  {
   "cell_type": "code",
   "execution_count": 178,
   "id": "673aa73e",
   "metadata": {
    "scrolled": true
   },
   "outputs": [
    {
     "name": "stdout",
     "output_type": "stream",
     "text": [
      "['N1',\n",
      " 'N5',\n",
      " 'N10',\n",
      " 'N7',\n",
      " 'N2',\n",
      " 'N6',\n",
      " 'N3',\n",
      " 'N8',\n",
      " 'N13',\n",
      " 'N9',\n",
      " 'N14',\n",
      " 'N4',\n",
      " 'N11',\n",
      " 'N12',\n",
      " 'N15',\n",
      " 'N16']\n"
     ]
    }
   ],
   "source": [
    "model_nodes= tm.node_name_list[0:16]\n",
    "pprint(model_nodes)"
   ]
  },
  {
   "cell_type": "code",
   "execution_count": 185,
   "id": "375f1aa6",
   "metadata": {},
   "outputs": [],
   "source": [
    "nodes = len(model_nodes)\n",
    "function_inputs = [1, 1/nodes] #array save multiple things\n",
    "desired_output = simulated_pressure.mean() # Function output, the objective is to match the measured leak."
   ]
  },
  {
   "cell_type": "code",
   "execution_count": 186,
   "id": "58965db3",
   "metadata": {},
   "outputs": [
    {
     "data": {
      "text/plain": [
       "(10.799200986991956, [1, 0.0625])"
      ]
     },
     "execution_count": 186,
     "metadata": {},
     "output_type": "execute_result"
    }
   ],
   "source": [
    "desired_output, function_inputs"
   ]
  },
  {
   "cell_type": "code",
   "execution_count": null,
   "id": "0041d996",
   "metadata": {},
   "outputs": [],
   "source": [
    "def fitness_func(solution, solution_idx):\n",
    "    \n",
    "    tm = tsnet.network.TransientModel('Real_Synthetic_Net.inp')\n",
    "    \n",
    "    # Set wavespeed\n",
    "    tm.set_wavespeed(1000.) # m/s\n",
    "    \n",
    "    # Set time options\n",
    "    tf = 270 # simulation period [s]\n",
    "    \n",
    "    tm.set_time(tf)\n",
    "    \n",
    "    # Add leak\n",
    "    emitter_coeff = function_inputs[0]*solution[0]\n",
    "    node_leak = model_nodes[int(function_inputs*solution[1])]\n",
    "    ts_model.change_discharge_coefficient(node_leak, emitter_coeff, plot_graph=False)\n",
    "    \n",
    "    node = tm.get_node('N8')\n",
    "    y = node.head - node.elevation\n",
    "    y = ts_model.summary(y)\n",
    "    output = y #numpy.sum(solution*function_inputs)\n",
    "    fitness = 1.0 / (numpy.abs(numpy.sum(output - desired_output)) + 0.000001)\n",
    "    output = numpy.sum(solution*function_inputs)\n",
    "    fitness = 1.0 / (numpy.abs(numpy.sum(output - desired_output)) + 0.000001)\n",
    "    return fitness\n",
    "\n",
    "fitness_function = fitness_func"
   ]
  },
  {
   "cell_type": "code",
   "execution_count": null,
   "id": "346f7b8c",
   "metadata": {},
   "outputs": [],
   "source": [
    "# Print results:\n",
    "last_fitness = 0\n",
    "def callback_generation(ga_instance):\n",
    "    global last_fitness\n",
    "    print(\"Generation ={generation}\".format(generation=ga_instance.generations_completed))\n",
    "    print(\"Fitness ={fitness}\".format(fitness=ga_instance.best_solution()[1]))\n",
    "    print(\"Change ={change}\".format(change=ga_instance.best_solution()[1] - last_fitness))\n",
    "    last_fitness = ga_instance.best_solution()[1]\n",
    "    \n",
    "# Creating an instance of the GA class inside the ga module. Some parameters are initialized within the constructor.\n",
    "ga_instance = pygad.GA(num_generations=300,\n",
    "                        fitness_func=fitness_func,\n",
    "                        num_parents_mating=1,\n",
    "                        sol_per_pop=5,\n",
    "                        num_genes=len(function_inputs),\n",
    "                        mutation_type=\"adaptive\",\n",
    "                        mutation_num_genes=(1, 1))"
   ]
  },
  {
   "cell_type": "code",
   "execution_count": null,
   "id": "02a2ac1c",
   "metadata": {},
   "outputs": [],
   "source": [
    "for index, val in enumerate(model_nodes1):\n",
    "    ga_instance = pygad.GA(num_generations=100,\n",
    "                                                fitness_func=fitness_func2,\n",
    "                                                num_parents_mating=1,\n",
    "                                                sol_per_pop=5,\n",
    "                                                num_genes=function_inputs,\n",
    "                                                mutation_type=\"adaptive\",\n",
    "                                                mutation_num_genes=(1, 1),\n",
    "                                               callback_generation=callback_generation)\n",
    "    \n",
    "    current_node = index #index is the current number of iteration (0,1,2,3,4,5,6) for 16 nodes.\n",
    "    \n",
    "    # Running the GA to optimize the parameters of the function.\n",
    "    ga_instance.run()\n",
    "    \n",
    "    # After the generations complete, some plots are shown that summarize how the outputs/fitenss values evolve over generations.\n",
    "    ga_instance.plot_result()\n",
    "    \n",
    "    # Returning the details of the best solution.\n",
    "    solution, solution_fitness, solution_idx = ga_instance.best_solution()\n",
    "    print(\"Parameters of the best solution :{solution}\".format(solution=solution))\n",
    "    print(\"Fitness value of the best solution ={solution_fitness}\".format(solution_fitness=solution_fitness))\n",
    "    print(\"Index of the best solution :{solution_idx}\".format(solution_idx=solution_idx))\n",
    "    \n",
    "    prediction = numpy.sum(numpy.array(function_inputs)*solution)\n",
    "    print(\"Predicted output based on the best solution :{prediction}\".format(prediction=prediction))\n",
    "          \n",
    "    if ga_instance.best_solution_generation != -1:\n",
    "        print(\"Best fitness value reached after {best_solution_generation} generations.\".format(best_solution_generation=ga_instance.best_solution_generation))\n",
    "    \n",
    "    # Saving the GA instance.\n",
    "    filename = 'genetic' # The filename to which the instance is saved. The  name is without extension.\n",
    "    ga_instance.save(filename=filename)\n",
    "    \n",
    "    # Loading the saved GA instance.\n",
    "    loaded_ga_instance = pygad.load(filename=filename)\n",
    "    plt.plot(loaded_ga_instance.best_solutions_fitness)\n",
    "    fitness_name = \"Fitness_\" + val\n",
    "    plt.savefig(fitness_name)\n",
    "\n",
    "    # Add leak\n",
    "    emitter_coeff = function_inputs*solution    \n",
    "    emitter_coeff_values_for_each_node.append({val:emitter_coeff})\n",
    "    time_of_completion = datetime.fromtimestamp(time.time()).strftime('%Y-%m-%d %H:%M:%S')\n",
    "    \n",
    "    print(f'Simulation for: {val} \\n Completed at: {time_of_completion}')"
   ]
  },
  {
   "cell_type": "code",
   "execution_count": null,
   "id": "f06abbae",
   "metadata": {},
   "outputs": [],
   "source": [
    "# def fitness_function(solution, solution_idx):\n",
    "#     global current_node\n",
    "    \n",
    "#     wn = wntr.network.WaterNetworkModel(water_model.inp_file_path)\n",
    "    \n",
    "#     emitter_coeff = solution[0]*water_model.function_inputs\n",
    "\n",
    "#     results = water_model.change_discharge_coefficient(wn, emitter_value=abs(emitter_coeff)) #change emitter coefficient\n",
    "\n",
    "#     pressure = results.node['pressure']\n",
    "#     pressure_output = pressure.loc[:,water_model.node]\n",
    "\n",
    "#     demands=results.node['demand']\n",
    "#     demand_output = demands.loc[:,water_model.node]\n",
    "    \n",
    "#     fitness = 1.0 / (np.abs(pressure_output - water_model.desired_output) + 0.000001)\n",
    "\n",
    "#     # Structure and export the output of the fitness\n",
    "#     data = pd.DataFrame(columns=['EMITTER_COEFFICIENT_SOLUTION','PRESSURE_OUTPUT','OUTPUT_DEMAND','FITNESS'])\n",
    "    \n",
    "#     emitter_coeff=abs(solution[0]) \n",
    "    \n",
    "#     if emitter_coeff>1:\n",
    "#         emitter_coeff=emitter_coeff%1\n",
    "\n",
    "#     data = data.append({'EMITTER_COEFFICIENT_SOLUTION':abs(emitter_coeff),\\\n",
    "#                         'PRESSURE_OUTPUT':list(pressure_output)[0],'FITNESS':list(fitness)[0],\\\n",
    "#                         'OUTPUT_DEMAND':(list(demand_output) [0]*1000),\\\n",
    "#                         'NODE': current_node},ignore_index=True)\n",
    "    \n",
    "#     data.to_csv(f\"{water_model.temp_dir}/FITNESS_SOLUTION_{current_node}_{str(abs(solution[0]))}.csv\",index=False) \n",
    "\n",
    "#     print('=====|SOLUTION|===========|OUTPUT|==================|FITNESS|==========|NODE|==========')\n",
    "#     print ('======|', abs(round(solution[0],3)),'|===========|',\\\n",
    "#            list(round(pressure_output,3))[0],\\\n",
    "#            '|==================|',list(round(fitness, 3))[0],'|==========|',\\\n",
    "#            current_node,'|==========')\n",
    "    \n",
    "#     print('***********************************'*2)\n",
    "\n",
    "#     return list(fitness)[0]"
   ]
  }
 ],
 "metadata": {
  "kernelspec": {
   "display_name": "Python 3 (ipykernel)",
   "language": "python",
   "name": "python3"
  },
  "language_info": {
   "codemirror_mode": {
    "name": "ipython",
    "version": 3
   },
   "file_extension": ".py",
   "mimetype": "text/x-python",
   "name": "python",
   "nbconvert_exporter": "python",
   "pygments_lexer": "ipython3",
   "version": "3.8.8"
  }
 },
 "nbformat": 4,
 "nbformat_minor": 5
}
