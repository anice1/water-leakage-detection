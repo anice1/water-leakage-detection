{
 "cells": [
  {
   "cell_type": "markdown",
   "id": "879c694a",
   "metadata": {},
   "source": [
    "## Objectives\n",
    "\n",
    "Introduce leak at node 6, node 2. The pressure measurement of these nodes will be used as a desired output for each of the optimization. Hence, the input function will be the considered emitter coefficient value of 0.5 and optimize for 100 generations. "
   ]
  },
  {
   "cell_type": "markdown",
   "id": "00ee06f6",
   "metadata": {},
   "source": [
    "## Import Necessary Libraries"
   ]
  },
  {
   "cell_type": "code",
   "execution_count": 1,
   "id": "1fb9bb4a",
   "metadata": {},
   "outputs": [],
   "source": [
    "import matplotlib.pyplot as plt\n",
    "import pandas as pd\n",
    "import numpy as np\n",
    "import pygad\n",
    "import numpy\n",
    "import glob\n",
    "import wntr\n",
    "import os"
   ]
  },
  {
   "cell_type": "code",
   "execution_count": 2,
   "id": "8a111ba7",
   "metadata": {},
   "outputs": [],
   "source": [
    "plt.rcParams['figure.figsize'] = (12,8)"
   ]
  },
  {
   "cell_type": "code",
   "execution_count": 3,
   "id": "1b4effe6",
   "metadata": {},
   "outputs": [],
   "source": [
    "import warnings\n",
    "import shutil\n",
    "warnings.filterwarnings('ignore')"
   ]
  },
  {
   "cell_type": "code",
   "execution_count": 4,
   "id": "a20be07f",
   "metadata": {},
   "outputs": [],
   "source": [
    "# wipe all solutions in the directory\n",
    "\n",
    "try:\n",
    "    shutil.rmtree('../leak_size_results/temp-new/')\n",
    "    shutil.rmtree('../leak_size_results/plots-new/')\n",
    "except FileNotFoundError as e:\n",
    "    print(e)\n",
    "\n",
    "# recreate deleted folders\n",
    "os.makedirs('../leak_size_results/temp-new')\n",
    "os.makedirs('../leak_size_results/plots-new')\n",
    "\n",
    "\n",
    "# Uncomment and run the above code if you want to re-optimze this project otherwise, go ahead.\n",
    "# Recommendation: Uncomment and run the code if you want re-optimize."
   ]
  },
  {
   "cell_type": "markdown",
   "id": "05830e48",
   "metadata": {},
   "source": [
    "## Read Inp File"
   ]
  },
  {
   "cell_type": "code",
   "execution_count": 5,
   "id": "6e143d15",
   "metadata": {},
   "outputs": [],
   "source": [
    "class Config:\n",
    "    num_generations =100 #Number of generations.\n",
    "    num_parents_mating = 2 # Number of solutions to be selected as parents in the mating pool.\n",
    "    sol_per_pop = 30 # Number of solutions in the population.\n",
    "    num_genes = 1 #len(function_inputs) --> this can be an array\n",
    "    init_range_low = 0\n",
    "    init_range_high = 1\n",
    "    parent_selection_type = \"sss\" # Type of parent selection.\n",
    "    keep_parents = -1 # Number of parents to keep in the next population. -1 means keep all parents and 0 means keep nothing.\n",
    "    crossover_type = \"single_point\" # Type of the crossover operator. \n",
    "    mutation_type = \"random\" # Type of the mutation operator.\n",
    "    last_fitness = 0\n",
    "    mutation_percent_genes = 100\n",
    "    \n",
    "    \n",
    "    inp_file_path = r\"../data/Real_Synthetic_Net.inp\" \n",
    "    function_inputs = None\n",
    "    desired_output = None"
   ]
  },
  {
   "cell_type": "code",
   "execution_count": 6,
   "id": "d650dcaf",
   "metadata": {},
   "outputs": [],
   "source": [
    "class WaterLeakModel(Config):\n",
    "    \n",
    "    def __init__(self, node:str):\n",
    "        ''' \n",
    "            node: node/junction ID in the network\n",
    "        '''\n",
    "        \n",
    "        # Check if node is in network \n",
    "        wn = wntr.network.WaterNetworkModel(self.inp_file_path)\n",
    "        assert wn.junction_name_list.count(node) == 1, \"Node not found in the network\"\n",
    "        \n",
    "        self.node = node\n",
    "        \n",
    "        #Setup all neccessary folders we need to work with, i.e. create them if they don't exist\n",
    "        if not os.path.exists('../leak_size_results/temp-new/solutions_for_'+self.node):\n",
    "            os.mkdir('../leak_size_results/temp-new/solutions_for_'+self.node)\n",
    "            \n",
    "        if not os.path.exists('../leak_size_results/plots-new/plots_for_'+self.node):\n",
    "            os.mkdir('../leak_size_results/plots-new/plots_for_'+self.node)\n",
    "        \n",
    "        if not os.path.exists('../leak_size_results/merged_results-new/'):\n",
    "            os.mkdir('../leak_size_results/merged_results-new/')\n",
    "            \n",
    "        self.temp_dir = '../leak_size_results/temp-new/solutions_for_'+self.node\n",
    "        self.plots_dir = '../leak_size_results/plots-new/plots_for_'+self.node\n",
    "        self.merged_results = '../leak_size_results/merged_results-new/results_for_'\n",
    "        \n",
    "    \n",
    "    def simulate(self, wn, plot_graph=True):\n",
    "        \"\"\"\n",
    "        If plot_graph is set to true, a graph of the network is plotted after simulation\n",
    "        \"\"\"\n",
    "        # Plot pressure after add leak to node\n",
    "            \n",
    "        sim = wntr.sim.WNTRSimulator(wn)\n",
    "        results = sim.run_sim()\n",
    "        pressure = results.node['pressure']\n",
    "        pressure_at_N6 = pressure.loc[:,self.node]\n",
    "        \n",
    "        if plot_graph:\n",
    "            wntr.graphics.plot_network(wn, node_attribute=pressure.any(), node_size=150, title='pressure at 0 hours')\n",
    "        \n",
    "        return results\n",
    "    \n",
    "    def change_discharge_coefficient(self, wn, emitter_value):\n",
    "        \"\"\"\n",
    "        This function changes the emitter coefficient for selected node in the network, and create a \n",
    "        structured representation of our data, a csv.\n",
    "        \n",
    "        parameters\n",
    "        ----------\n",
    "        wn: wntr network object\n",
    "        emitter_value: the emitter coefficient value\n",
    "        \"\"\"\n",
    "        \n",
    "        if emitter_value > 1:\n",
    "            emitter_value %=1\n",
    "            \n",
    "        # Change emitter coefficient\n",
    "        node = wn.get_node(str(self.node))\n",
    "        node.add_leak(wn, area=0.00015, start_time=0, end_time=1, discharge_coeff=emitter_value)\n",
    "        return self.simulate(wn, plot_graph=False)\n",
    "    \n",
    "    def export_results(self, solutions:list,  name:str, path=None):\n",
    "        \"\"\"\n",
    "        Concatenates all solutions generated and exports as a single csv file\n",
    "        \n",
    "        parameters\n",
    "        ----------\n",
    "        solution: a list of all paths to the solutions csv files\n",
    "        path: path where concatenated solution will be exported to\n",
    "        name: name to be assigned to exported file\n",
    "        \"\"\"\n",
    "        if not path: path=self.merged_results\n",
    "            \n",
    "        if not os.path.exists(path):\n",
    "            os.mkdir(path)\n",
    "        \n",
    "        temp = pd.DataFrame()\n",
    "        for i in range(len(solutions)):\n",
    "            data = pd.read_csv(solutions[i])\n",
    "            if i == 0:\n",
    "                temp = data\n",
    "            else:\n",
    "                temp = pd.concat([temp, data])\n",
    "        name+=\".csv\"\n",
    "        try:\n",
    "            temp.to_csv(os.path.join(path,name),index=False)\n",
    "            print(f'File Exported Successfully to path: {os.path.join(path, name)}')\n",
    "        except Exception as e:\n",
    "            print(e)\n",
    "            \n",
    "    def run(self, leak_area=0.00015, start_time=0, end_time=1, discharge_coeff=.5, function_inputs=.5, plot_graph=True):\n",
    "        \"\"\"\n",
    "        Adds a leak to node passed to WaterLeakModel() object and simulates\n",
    "        \n",
    "        parameters\n",
    "        ----------\n",
    "        leak_area: area of the leak\n",
    "        start_time: time in seconds to start the leak\n",
    "        end_time: time in seconds to end the leak\n",
    "        discharge_coeff: Leak discharge coefficient; Takes on values between 0 and 1.\n",
    "        function_inputs = inputs for optimization, can be array of numbers\n",
    "        plot_graph: If plot_graph is set to true, a graph of the network is plotted after simulation\n",
    "        \"\"\"\n",
    "            \n",
    "        # Add leak and simulate\n",
    "        wn = wntr.network.WaterNetworkModel(self.inp_file_path)\n",
    "        node = wn.get_node(self.node)\n",
    "        node.add_leak(wn, area=0.00015, start_time=start_time, end_time=end_time, discharge_coeff=discharge_coeff)\n",
    "        results = self.simulate(wn, plot_graph=plot_graph)\n",
    "\n",
    "        self.function_inputs = function_inputs\n",
    "        self.desired_output = node.head-node.elevation\n",
    "        return results\n"
   ]
  },
  {
   "cell_type": "markdown",
   "id": "5cf65036",
   "metadata": {},
   "source": [
    "## Experiment 1\n",
    "Add Leak to Node 6 and Optimize"
   ]
  },
  {
   "cell_type": "code",
   "execution_count": 7,
   "id": "761d2149",
   "metadata": {},
   "outputs": [
    {
     "data": {
      "text/html": [
       "<div>\n",
       "<style scoped>\n",
       "    .dataframe tbody tr th:only-of-type {\n",
       "        vertical-align: middle;\n",
       "    }\n",
       "\n",
       "    .dataframe tbody tr th {\n",
       "        vertical-align: top;\n",
       "    }\n",
       "\n",
       "    .dataframe thead th {\n",
       "        text-align: right;\n",
       "    }\n",
       "</style>\n",
       "<table border=\"1\" class=\"dataframe\">\n",
       "  <thead>\n",
       "    <tr style=\"text-align: right;\">\n",
       "      <th></th>\n",
       "      <th>N1</th>\n",
       "      <th>N5</th>\n",
       "      <th>N10</th>\n",
       "      <th>N7</th>\n",
       "      <th>N2</th>\n",
       "      <th>N6</th>\n",
       "      <th>N3</th>\n",
       "      <th>N8</th>\n",
       "      <th>N13</th>\n",
       "      <th>N9</th>\n",
       "      <th>N14</th>\n",
       "      <th>N4</th>\n",
       "      <th>N11</th>\n",
       "      <th>N12</th>\n",
       "      <th>N15</th>\n",
       "      <th>N16</th>\n",
       "      <th>Reservior</th>\n",
       "    </tr>\n",
       "  </thead>\n",
       "  <tbody>\n",
       "    <tr>\n",
       "      <th>0</th>\n",
       "      <td>9.370611</td>\n",
       "      <td>24.023646</td>\n",
       "      <td>28.970101</td>\n",
       "      <td>27.256189</td>\n",
       "      <td>24.870362</td>\n",
       "      <td>26.61794</td>\n",
       "      <td>27.085028</td>\n",
       "      <td>25.159246</td>\n",
       "      <td>30.595309</td>\n",
       "      <td>24.372273</td>\n",
       "      <td>25.061021</td>\n",
       "      <td>29.000316</td>\n",
       "      <td>27.842038</td>\n",
       "      <td>24.588272</td>\n",
       "      <td>28.966055</td>\n",
       "      <td>27.253194</td>\n",
       "      <td>0.0</td>\n",
       "    </tr>\n",
       "  </tbody>\n",
       "</table>\n",
       "</div>"
      ],
      "text/plain": [
       "         N1         N5        N10         N7         N2        N6         N3  \\\n",
       "0  9.370611  24.023646  28.970101  27.256189  24.870362  26.61794  27.085028   \n",
       "\n",
       "          N8        N13         N9        N14         N4        N11  \\\n",
       "0  25.159246  30.595309  24.372273  25.061021  29.000316  27.842038   \n",
       "\n",
       "         N12        N15        N16  Reservior  \n",
       "0  24.588272  28.966055  27.253194        0.0  "
      ]
     },
     "execution_count": 7,
     "metadata": {},
     "output_type": "execute_result"
    }
   ],
   "source": [
    "# Instantiate the pygad optimization class\n",
    "water_model = WaterLeakModel(node='N6')\n",
    "wn = wntr.network.WaterNetworkModel(water_model.inp_file_path)\n",
    "\n",
    "pressure_at_0hr = water_model.simulate(wn, plot_graph=False)\n",
    "pressure_at_0hr.node['pressure']"
   ]
  },
  {
   "cell_type": "code",
   "execution_count": null,
   "id": "7f0d478a",
   "metadata": {
    "scrolled": false
   },
   "outputs": [],
   "source": [
    "results = water_model.run()"
   ]
  },
  {
   "cell_type": "code",
   "execution_count": null,
   "id": "7da7848d",
   "metadata": {
    "scrolled": false
   },
   "outputs": [],
   "source": [
    "results.node['pressure']"
   ]
  },
  {
   "cell_type": "markdown",
   "id": "640b97bd",
   "metadata": {},
   "source": [
    "After leak was added to our selected node `6` our pressure dropped from 26.61 to 26.54"
   ]
  },
  {
   "cell_type": "code",
   "execution_count": null,
   "id": "753d1534",
   "metadata": {
    "scrolled": true
   },
   "outputs": [],
   "source": [
    "water_model.desired_output"
   ]
  },
  {
   "cell_type": "code",
   "execution_count": null,
   "id": "f081254b",
   "metadata": {},
   "outputs": [],
   "source": [
    "def fitness_function(solution, solution_idx):\n",
    "        \n",
    "    wn = wntr.network.WaterNetworkModel(water_model.inp_file_path)\n",
    "    \n",
    "#     output = numpy.sum(solution*function_inputs)\n",
    "    results = water_model.change_discharge_coefficient(wn, emitter_value=abs(solution[0]*water_model.function_inputs)) #change emitter coefficient\n",
    "    \n",
    "    pressure = results.node['pressure']\n",
    "    pressure_output = pressure.loc[:,water_model.node]\n",
    "    \n",
    "    demands=results.node['demand']\n",
    "    demand_output = demands.loc[:,water_model.node]\n",
    "    \n",
    "    fitness = 1.0 / (np.abs(pressure_output - water_model.desired_output) + 0.000001)\n",
    "\n",
    "    # Structure and export the output of the fitness\n",
    "    data = pd.DataFrame(columns=['EMITTER_COEFFICIENT_SOLUTION','PRESSURE_OUTPUT','OUTPUT_DEMAND','FITNESS'])\n",
    "    \n",
    "    data = data.append({'EMITTER_COEFFICIENT_SOLUTION':abs(solution[0]*water_model.function_inputs),'PRESSURE_OUTPUT':list(pressure_output)[0],'FITNESS':list(fitness)[0],'OUTPUT_DEMAND':(list(demand_output) [0]*1000)},ignore_index=True)\n",
    "    data.to_csv(f\"{water_model.temp_dir}/FITNESS_SOLUTION_{str(abs(solution[0]))}.csv\",index=False) \n",
    "    \n",
    "    print('=====|SOLUTION|===========|OUTPUT|==================|FITNESS|==========')\n",
    "    print ('======|', abs(round(solution[0]*water_model.function_inputs,3)),'|===========|',list(round(pressure_output,3))[0],'|==================|',list(round(fitness, 3))[0],'|==========')\n",
    "    print('================================='*2)\n",
    "\n",
    "    return list(fitness)[0]"
   ]
  },
  {
   "cell_type": "code",
   "execution_count": null,
   "id": "afbad815",
   "metadata": {},
   "outputs": [],
   "source": [
    "#################### Create a Callback Function ########################\n",
    "last_fitness = 0\n",
    "def callback_generation(ga_instance): # This function prints algorithm progress\n",
    "    global last_fitness\n",
    "    print(\"Generation = {generation}\".format(generation=ga_instance.generations_completed)) \n",
    "    print(\"Fitness = {fitness}\".format(fitness=ga_instance.best_solution()[1]))\n",
    "    print(\"Change = {change}\".format(change=ga_instance.best_solution()[1] - last_fitness)) \n",
    "\n",
    "    data =pd.DataFrame(columns=['GENERATION','FITNESS'])\n",
    "    data =data.append({'GENERATION':ga_instance.generations_completed,'FITNESS': ga_instance.best_solution ()[1]},ignore_index=True)\n",
    "    data.to_csv(f\"{water_model.temp_dir}/GENERATION_{str(ga_instance.generations_completed)}.csv\",index=False) \n",
    "    last_fitness = ga_instance.best_solution()[1]"
   ]
  },
  {
   "cell_type": "code",
   "execution_count": null,
   "id": "981dd8b8",
   "metadata": {},
   "outputs": [],
   "source": [
    "# Instantiate the pygad optimization class\n",
    "ga_instance = pygad.GA(num_generations=water_model.num_generations,\n",
    "                       num_parents_mating=water_model.num_parents_mating, \n",
    "                       fitness_func=fitness_function, \n",
    "                       sol_per_pop=water_model.sol_per_pop,\n",
    "                       num_genes=water_model.num_genes,\n",
    "                       init_range_low=water_model.init_range_low,\n",
    "                       init_range_high=water_model.init_range_high,\n",
    "                       parent_selection_type=water_model.parent_selection_type,\n",
    "                       keep_parents=water_model.keep_parents,\n",
    "                       crossover_type=water_model.crossover_type,\n",
    "                       mutation_type=water_model.mutation_type,\n",
    "                       mutation_percent_genes=water_model.mutation_percent_genes,\n",
    "                       callback_generation=callback_generation)"
   ]
  },
  {
   "cell_type": "code",
   "execution_count": null,
   "id": "8e20e068",
   "metadata": {
    "scrolled": true
   },
   "outputs": [],
   "source": [
    "ga_instance.run()"
   ]
  },
  {
   "cell_type": "code",
   "execution_count": null,
   "id": "abc47ce7",
   "metadata": {
    "scrolled": true
   },
   "outputs": [],
   "source": [
    "ga_instance.plot_result()"
   ]
  },
  {
   "cell_type": "code",
   "execution_count": null,
   "id": "1970090b",
   "metadata": {
    "scrolled": true
   },
   "outputs": [],
   "source": [
    "# Returning the details of the best solution.\n",
    "solution, solution_fitness, solution_idx = ga_instance.best_solution()\n",
    "print(\"Parameters of the best solution : {solution}\".format(solution=solution))\n",
    "print(\"Fitness value of the best solution = {solution_fitness}\".format(solution_fitness=solution_fitness)) \n",
    "print(\"Index of the best solution : {solution_idx}\".format(solution_idx=solution_idx))"
   ]
  },
  {
   "cell_type": "code",
   "execution_count": null,
   "id": "d16d69c6",
   "metadata": {},
   "outputs": [],
   "source": [
    "# Check the model's prediction\n",
    "prediction = numpy.sum(numpy.array(water_model.function_inputs)*solution)\n",
    "print(\"Predicted output based on the best solution :{prediction}\".format(prediction=prediction))\n",
    "\n",
    "if ga_instance.best_solution_generation != -1:\n",
    "    print(\"Best fitness value reached after {best_solution_generation} generations.\".format(best_solution_generation=ga_instance.best_solution_generation))"
   ]
  },
  {
   "cell_type": "code",
   "execution_count": null,
   "id": "3374713f",
   "metadata": {},
   "outputs": [],
   "source": [
    "# Check solution for confirmation\n",
    "wn = wntr.network.WaterNetworkModel(water_model.inp_file_path)\n",
    "results = water_model.change_discharge_coefficient(wn, emitter_value=abs(solution[0]))\n",
    "\n",
    "pressure = results.node['pressure']\n",
    "presssure_at_N6 = pressure.loc[:,water_model.node]\n",
    "print(presssure_at_N6)"
   ]
  },
  {
   "cell_type": "code",
   "execution_count": null,
   "id": "24a7e892",
   "metadata": {},
   "outputs": [],
   "source": [
    "# Merge all our solutions per generation\n",
    "solution_per_generation = glob.glob(f\"{water_model.temp_dir}/GENERATION_*\")\n",
    "water_model.export_results(solutions = solution_per_generation, path=None, name='optimization-result-per-generation_'+water_model.node.lower())\n",
    "result_generation = pd.read_csv(water_model.merged_results+'/optimization-result-per-generation_n6.csv')\n",
    "result_generation"
   ]
  },
  {
   "cell_type": "code",
   "execution_count": null,
   "id": "d0e28193",
   "metadata": {},
   "outputs": [],
   "source": [
    "fitness_solution_per_population = glob.glob(f\"{water_model.temp_dir}/FITNESS_SOLUTION_*\")\n",
    "\n",
    "water_model.export_results(solutions = fitness_solution_per_population, path=None, name='optimization-result-per-fitness_'+water_model.node.lower())\n",
    "fitness_solution_per_population = pd.read_csv(water_model.merged_results+'/optimization-result-per-fitness_'+water_model.node.lower()+'.csv')\n",
    "fitness_solution_per_population"
   ]
  },
  {
   "cell_type": "code",
   "execution_count": null,
   "id": "2fea748a",
   "metadata": {},
   "outputs": [],
   "source": [
    "final_data = pd.merge(fitness_solution_per_population,result_generation, how='left',left_on='FITNESS',right_on='FITNESS')\n",
    "final_data = final_data.sort_values(by='FITNESS',ascending=True)\n",
    "final_data"
   ]
  },
  {
   "cell_type": "code",
   "execution_count": null,
   "id": "e406e402",
   "metadata": {
    "scrolled": true
   },
   "outputs": [],
   "source": [
    "# Get a summary statistics after optimization\n",
    "final_data.describe()"
   ]
  },
  {
   "cell_type": "markdown",
   "id": "95860355",
   "metadata": {},
   "source": [
    "## Plot Results"
   ]
  },
  {
   "cell_type": "code",
   "execution_count": null,
   "id": "7f97df22",
   "metadata": {},
   "outputs": [],
   "source": [
    "final_data.groupby(['GENERATION'])['PRESSURE_OUTPUT'].max().to_frame().plot()\n",
    "plt.xlabel('GENERATION',fontsize=14)\n",
    "plt.ylabel('PRESSURE (m)',fontsize=14)\n",
    "plt.title('PRESSURE vs GENERATION',fontsize=16)\n",
    "plt.savefig(water_model.plots_dir+\"/PRESSURE_VS_GENERATION.png\")\n",
    "plt.show();\n",
    "plt.close()"
   ]
  },
  {
   "cell_type": "code",
   "execution_count": null,
   "id": "f86e7e8e",
   "metadata": {},
   "outputs": [],
   "source": [
    "final_data.groupby(['GENERATION'])['EMITTER_COEFFICIENT_SOLUTION'].max().to_frame().plot()\n",
    "plt.xlabel('GENERATION',fontsize=14)\n",
    "plt.ylabel('EMITTER_COFFICIENT',fontsize=14)\n",
    "plt.title('EMITTER COEFFICIENT vs GENERATION',fontsize=16)\n",
    "plt.show();\n",
    "plt.savefig(f\"{water_model.plots_dir}/EMITTER_COEFFICIENT.png\");"
   ]
  },
  {
   "cell_type": "code",
   "execution_count": null,
   "id": "4c4bd6cd",
   "metadata": {
    "scrolled": false
   },
   "outputs": [],
   "source": [
    "final_data.groupby(['GENERATION'])['FITNESS'].max().to_frame().plot()\n",
    "plt.xlabel('GENERATIONS',fontsize=14) ### population\n",
    "plt.ylabel('FITNESS',fontsize=14)\n",
    "plt.title('FITNESS ACROSS GENERATIONS',fontsize=16)\n",
    "plt.show();\n",
    "plt.savefig(f\"{water_model.plots_dir}/FITNESS_GEN.png\")\n",
    "plt.close()"
   ]
  },
  {
   "cell_type": "code",
   "execution_count": null,
   "id": "10e9daeb",
   "metadata": {},
   "outputs": [],
   "source": [
    "final_data.groupby(['GENERATION'])['OUTPUT_DEMAND'].max().to_frame().plot()\n",
    "plt.xlabel('GENERATIONS',fontsize=14) ### population\n",
    "plt.ylabel('DEMAND (LPS)',fontsize=14)\n",
    "plt.title('DEMAND ACROSS GENERATIONS',fontsize=16)\n",
    "plt.show();\n",
    "plt.savefig(f\"{water_model.plots_dir}/DEMAND_VS_GEN.png\")\n",
    "plt.close()"
   ]
  },
  {
   "cell_type": "code",
   "execution_count": null,
   "id": "368ec24b",
   "metadata": {},
   "outputs": [],
   "source": []
  },
  {
   "cell_type": "code",
   "execution_count": null,
   "id": "c594b0a4",
   "metadata": {},
   "outputs": [],
   "source": []
  },
  {
   "cell_type": "code",
   "execution_count": null,
   "id": "72d37bde",
   "metadata": {},
   "outputs": [],
   "source": []
  },
  {
   "cell_type": "markdown",
   "id": "4aec8379",
   "metadata": {},
   "source": [
    "# Experiment 2 \n",
    "\n",
    "Validate our model by adding leak to a different node: `NODE 2`"
   ]
  },
  {
   "cell_type": "code",
   "execution_count": null,
   "id": "d9a2b2d1",
   "metadata": {},
   "outputs": [],
   "source": [
    "# Add leak and optimize for another node outside node 6 and make plots.\n",
    "water_model2 = WaterLeakModel(node='N2')\n",
    "pressure_at_0hr = water_model2.simulate(wn, plot_graph=False)\n",
    "pressure_at_0hr.node['pressure']"
   ]
  },
  {
   "cell_type": "code",
   "execution_count": null,
   "id": "1ace2a7d",
   "metadata": {},
   "outputs": [],
   "source": [
    "results = water_model2.run() # Add leak and simulate by calling the run method\n",
    "results.node['pressure']"
   ]
  },
  {
   "cell_type": "code",
   "execution_count": null,
   "id": "8db14c58",
   "metadata": {},
   "outputs": [],
   "source": [
    "def fitness_function(solution, solution_idx):\n",
    "        \n",
    "    wn = wntr.network.WaterNetworkModel(water_model2.inp_file_path)\n",
    "    results = water_model2.change_discharge_coefficient(wn, emitter_value=abs(solution[0]*water_model.function_inputs)) #change emitter coefficient\n",
    "\n",
    "    pressure = results.node['pressure']\n",
    "    pressure_output = pressure.loc[:,water_model2.node]\n",
    "    \n",
    "    demands=results.node['demand']\n",
    "    demand_output = demands.loc[:,water_model2.node]\n",
    "\n",
    "    fitness = 1.0 / (np.abs(pressure_output - water_model2.desired_output) + 0.000001)\n",
    "\n",
    "    # Structure and export the output of the fitness\n",
    "    data = pd.DataFrame(columns=['EMITTER_COEFFICIENT_SOLUTION','PRESSURE_OUTPUT','OUTPUT_DEMAND','FITNESS'])\n",
    "    data = data.append({'EMITTER_COEFFICIENT_SOLUTION':abs(solution[0]*water_model.function_inputs),'PRESSURE_OUTPUT':list(pressure_output)[0],'FITNESS':list(fitness)[0],'OUTPUT_DEMAND':(list(demand_output) [0]*1000)},ignore_index=True)\n",
    "    data.to_csv(f\"{water_model2.temp_dir}/FITNESS_SOLUTION_{str(abs(solution[0]))}.csv\",index=False) \n",
    "\n",
    "    print('=====|SOLUTION|===========|OUTPUT|==================|FITNESS|==========')\n",
    "    print ('======|', abs(round(solution[0],3)),'|===========|',list(round(pressure_output,3))[0],'|==================|',list(round(fitness, 3))[0],'|==========')\n",
    "    print('================================='*2)\n",
    "\n",
    "    return list(fitness)[0]"
   ]
  },
  {
   "cell_type": "code",
   "execution_count": null,
   "id": "0971f3aa",
   "metadata": {},
   "outputs": [],
   "source": [
    "#################### Create a Callback Function ########################\n",
    "last_fitness = 0\n",
    "def callback_generation(ga_instance): # This function prints algorithm progress\n",
    "    global last_fitness\n",
    "    print(\"Generation = {generation}\".format(generation=ga_instance.generations_completed)) \n",
    "    print(\"Fitness = {fitness}\".format(fitness=ga_instance.best_solution()[1]))\n",
    "    print(\"Change = {change}\".format(change=ga_instance.best_solution()[1] - last_fitness)) \n",
    "\n",
    "    data =pd.DataFrame(columns=['GENERATION','FITNESS'])\n",
    "    data =data.append({'GENERATION':ga_instance.generations_completed,'FITNESS': ga_instance.best_solution ()[1]},ignore_index=True)\n",
    "    data.to_csv(f\"{water_model2.temp_dir}/GENERATION_{str(ga_instance.generations_completed)}.csv\",index=False) \n",
    "    last_fitness = ga_instance.best_solution()[1]"
   ]
  },
  {
   "cell_type": "code",
   "execution_count": null,
   "id": "e51a9362",
   "metadata": {},
   "outputs": [],
   "source": [
    "# Instantiate the pygad optimization class\n",
    "ga_instance2 = pygad.GA(num_generations=water_model2.num_generations,\n",
    "                       num_parents_mating=water_model2.num_parents_mating, \n",
    "                       fitness_func=fitness_function, \n",
    "                       sol_per_pop=water_model2.sol_per_pop,\n",
    "                       num_genes=water_model2.num_genes,\n",
    "                       init_range_low=water_model2.init_range_low,\n",
    "                       init_range_high=water_model2.init_range_high,\n",
    "                       parent_selection_type=water_model2.parent_selection_type,\n",
    "                       keep_parents=water_model2.keep_parents,\n",
    "                       crossover_type=water_model2.crossover_type,\n",
    "                       mutation_type=water_model2.mutation_type,\n",
    "                       mutation_percent_genes=water_model2.mutation_percent_genes,\n",
    "                       callback_generation=callback_generation)"
   ]
  },
  {
   "cell_type": "code",
   "execution_count": null,
   "id": "91b7bbd5",
   "metadata": {
    "scrolled": true
   },
   "outputs": [],
   "source": [
    "ga_instance2.run()"
   ]
  },
  {
   "cell_type": "code",
   "execution_count": null,
   "id": "d39759cd",
   "metadata": {
    "scrolled": true
   },
   "outputs": [],
   "source": [
    "# Returning the details of the best solution.\n",
    "solution, solution_fitness, solution_idx = ga_instance2.best_solution()\n",
    "print(\"Parameters of the best solution : {solution}\".format(solution=solution))\n",
    "print(\"Fitness value of the best solution = {solution_fitness}\".format(solution_fitness=solution_fitness)) \n",
    "print(\"Index of the best solution : {solution_idx}\".format(solution_idx=solution_idx))"
   ]
  },
  {
   "cell_type": "code",
   "execution_count": null,
   "id": "6b3c4523",
   "metadata": {},
   "outputs": [],
   "source": [
    "# Check the model's prediction\n",
    "prediction2 = numpy.sum(numpy.array(water_model2.function_inputs)*solution)\n",
    "print(\"Predicted output based on the best solution :{prediction}\".format(prediction=prediction2))\n",
    "\n",
    "if ga_instance2.best_solution_generation != -1:\n",
    "    print(\"Best fitness value reached after {best_solution_generation} generations.\".format(best_solution_generation=ga_instance2.best_solution_generation))"
   ]
  },
  {
   "cell_type": "code",
   "execution_count": null,
   "id": "bc432e90",
   "metadata": {},
   "outputs": [],
   "source": [
    "# Check solution for confirmation\n",
    "wn = wntr.network.WaterNetworkModel(water_model2.inp_file_path)\n",
    "results = water_model2.change_discharge_coefficient(wn, emitter_value=abs(solution[0]))\n",
    "\n",
    "pressure = results.node['pressure']\n",
    "presssure_at_N2 = pressure.loc[:,water_model2.node]\n",
    "print(presssure_at_N2)"
   ]
  },
  {
   "cell_type": "code",
   "execution_count": null,
   "id": "f9dc7668",
   "metadata": {},
   "outputs": [],
   "source": [
    "# Merge all our solutions per generation\n",
    "solution_per_generation = glob.glob(f\"{water_model2.temp_dir}/GENERATION_*\")\n",
    "water_model2.export_results(solutions = solution_per_generation,path=None, name='optimization-result-per-generation_'+water_model.node.lower())\n",
    "\n",
    "result_generation = pd.read_csv(water_model2.merged_results+'/optimization-result-per-generation_'+water_model.node.lower()+'.csv')\n",
    "result_generation"
   ]
  },
  {
   "cell_type": "code",
   "execution_count": null,
   "id": "5d08043d",
   "metadata": {},
   "outputs": [],
   "source": [
    "fitness_solution_per_population = glob.glob(f\"{water_model2.temp_dir}/FITNESS_SOLUTION_*\")\n",
    "\n",
    "water_model.export_results(solutions = fitness_solution_per_population, path=None, name='optimization-result-per-fitness')\n",
    "fitness_solution_per_population = pd.read_csv(water_model.merged_results+'/optimization-result-per-fitness.csv')\n",
    "fitness_solution_per_population"
   ]
  },
  {
   "cell_type": "code",
   "execution_count": null,
   "id": "fefc8db5",
   "metadata": {},
   "outputs": [],
   "source": [
    "final_data = pd.merge(fitness_solution_per_population,result_generation, how='left',left_on='FITNESS',right_on='FITNESS')\n",
    "final_data = final_data.sort_values(by='FITNESS',ascending=True)\n",
    "final_data"
   ]
  },
  {
   "cell_type": "code",
   "execution_count": null,
   "id": "a427084c",
   "metadata": {},
   "outputs": [],
   "source": [
    "final_data.groupby(['GENERATION'])['PRESSURE_OUTPUT'].min().to_frame().plot()\n",
    "plt.xlabel('GENERATION',fontsize=14)\n",
    "plt.ylabel('PRESSURE (m)',fontsize=14)\n",
    "plt.title('PRESSURE vs GENERATION',fontsize=16)\n",
    "plt.savefig(water_model2.plots_dir+\"/PRESSURE_VS_GENERATION.png\")\n",
    "plt.show();\n",
    "plt.close()"
   ]
  },
  {
   "cell_type": "code",
   "execution_count": null,
   "id": "5baf4ddb",
   "metadata": {},
   "outputs": [],
   "source": [
    "final_data.groupby(['GENERATION'])['EMITTER_COEFFICIENT_SOLUTION'].max().to_frame().plot()\n",
    "plt.xlabel('GENERATION',fontsize=14)\n",
    "plt.ylabel('EMITTER_COFFICIENT',fontsize=14)\n",
    "plt.title('EMITTER COEFFICIENT vs GENERATION',fontsize=16)\n",
    "plt.show();\n",
    "plt.savefig(f\"{water_model2.plots_dir}/EMITTER_COEFFICIENT.png\");\n",
    "plt.close()"
   ]
  },
  {
   "cell_type": "code",
   "execution_count": null,
   "id": "2f74cfb1",
   "metadata": {},
   "outputs": [],
   "source": [
    "final_data.groupby(['GENERATION'])['FITNESS'].max().to_frame().plot()\n",
    "plt.xlabel('GENERATIONS',fontsize=14) ### population\n",
    "plt.ylabel('FITNESS',fontsize=14)\n",
    "plt.title('FITNESS vs GENERATION',fontsize=16)\n",
    "plt.show();\n",
    "plt.savefig(f\"{water_model2.plots_dir}/FITNESS_GEN.png\")\n",
    "plt.close()"
   ]
  },
  {
   "cell_type": "code",
   "execution_count": null,
   "id": "8120df13",
   "metadata": {},
   "outputs": [],
   "source": [
    "final_data.groupby(['GENERATION'])['OUTPUT_DEMAND'].max().to_frame().plot()\n",
    "plt.xlabel('GENERATIONS',fontsize=14) ### population\n",
    "plt.ylabel('DEMAND (LPS)',fontsize=14)\n",
    "plt.title('DEMAND vs GENERATIONS',fontsize=16)\n",
    "plt.show();\n",
    "plt.savefig(f\"{water_model2.plots_dir}/DEMAND_VS_GEN.png\")\n",
    "plt.close()"
   ]
  },
  {
   "cell_type": "markdown",
   "id": "a172b5bf",
   "metadata": {},
   "source": [
    "## Experiment 3 \n",
    "\n",
    "Validating for Node without a leak"
   ]
  },
  {
   "cell_type": "code",
   "execution_count": null,
   "id": "14a2c401",
   "metadata": {},
   "outputs": [],
   "source": [
    "# Add leak and optimize for another node outside node 6 and make plots.\n",
    "water_model3 = WaterLeakModel(node='N13')\n",
    "pressure_at_0hr = water_model3.simulate(wn, plot_graph=False)\n",
    "pressure_at_0hr.node['pressure']"
   ]
  },
  {
   "cell_type": "code",
   "execution_count": null,
   "id": "8802193e",
   "metadata": {},
   "outputs": [],
   "source": [
    "water_model3.function_inputs = 0.5\n",
    "water_model3.desired_output = 30.59"
   ]
  },
  {
   "cell_type": "code",
   "execution_count": null,
   "id": "74e41ba6",
   "metadata": {},
   "outputs": [],
   "source": [
    "def fitness_function(solution, solution_idx):\n",
    "        \n",
    "    wn = wntr.network.WaterNetworkModel(water_model3.inp_file_path)\n",
    "    \n",
    "    results = water_model3.change_discharge_coefficient(wn, emitter_value=abs(solution[0]*water_model3.function_inputs)) #change emitter coefficient\n",
    "    \n",
    "    pressure = results.node['pressure']\n",
    "    pressure_output = pressure.loc[:,water_model3.node]\n",
    "    \n",
    "    demands=results.node['demand']\n",
    "    demand_output = demands.loc[:,water_model3.node]\n",
    "\n",
    "    fitness = 1.0 / (np.abs(pressure_output - water_model3.desired_output) + 0.000001)\n",
    "\n",
    "    # Structure and export the output of the fitness\n",
    "    data = pd.DataFrame(columns=['EMITTER_COEFFICIENT_SOLUTION','PRESSURE_OUTPUT','OUTPUT_DEMAND','FITNESS'])\n",
    "    data = data.append({'EMITTER_COEFFICIENT_SOLUTION':abs(solution[0]),'PRESSURE_OUTPUT':list(pressure_output)[0],'FITNESS':list(fitness)[0],'OUTPUT_DEMAND':(list(demand_output) [0]*1000)},ignore_index=True)\n",
    "    data.to_csv(f\"{water_model3.temp_dir}/FITNESS_SOLUTION_{str(abs(solution[0]))}.csv\",index=False) \n",
    "\n",
    "    print('=====|SOLUTION|===========|OUTPUT|==================|FITNESS|==========')\n",
    "    print ('======|', abs(round(solution[0],3)),'|===========|',list(round(pressure_output,3))[0],'|==================|',list(round(fitness, 3))[0],'|==========')\n",
    "    print('================================='*2)\n",
    "\n",
    "    return list(fitness)[0]"
   ]
  },
  {
   "cell_type": "code",
   "execution_count": null,
   "id": "f640696d",
   "metadata": {},
   "outputs": [],
   "source": [
    "#################### Create a Callback Function ########################\n",
    "last_fitness = 0\n",
    "def callback_generation(ga_instance): # This function prints algorithm progress\n",
    "    global last_fitness\n",
    "    print(\"Generation = {generation}\".format(generation=ga_instance.generations_completed)) \n",
    "    print(\"Fitness = {fitness}\".format(fitness=ga_instance.best_solution()[1]))\n",
    "    print(\"Change = {change}\".format(change=ga_instance.best_solution()[1] - last_fitness)) \n",
    "\n",
    "    data =pd.DataFrame(columns=['GENERATION','FITNESS'])\n",
    "    data =data.append({'GENERATION':ga_instance.generations_completed,'FITNESS': ga_instance.best_solution ()[1]},ignore_index=True)\n",
    "    data.to_csv(f\"{water_model3.temp_dir}/GENERATION_{str(ga_instance.generations_completed)}.csv\",index=False) \n",
    "    last_fitness = ga_instance.best_solution()[1]"
   ]
  },
  {
   "cell_type": "code",
   "execution_count": null,
   "id": "4b323bfb",
   "metadata": {},
   "outputs": [],
   "source": [
    "# Instantiate the pygad optimization class\n",
    "ga_instance2 = pygad.GA(num_generations=water_model3.num_generations,\n",
    "                       num_parents_mating=water_model3.num_parents_mating, \n",
    "                       fitness_func=fitness_function, \n",
    "                       sol_per_pop=water_model3.sol_per_pop,\n",
    "                       num_genes=water_model3.num_genes,\n",
    "                       init_range_low=water_model3.init_range_low,\n",
    "                       init_range_high=water_model3.init_range_high,\n",
    "                       parent_selection_type=water_model3.parent_selection_type,\n",
    "                       keep_parents=water_model3.keep_parents,\n",
    "                       crossover_type=water_model3.crossover_type,\n",
    "                       mutation_type=water_model3.mutation_type,\n",
    "                       mutation_percent_genes=water_model3.mutation_percent_genes,\n",
    "                       callback_generation=callback_generation)"
   ]
  },
  {
   "cell_type": "code",
   "execution_count": null,
   "id": "451a435d",
   "metadata": {},
   "outputs": [],
   "source": [
    "ga_instance2.run()"
   ]
  },
  {
   "cell_type": "code",
   "execution_count": null,
   "id": "a99004ce",
   "metadata": {},
   "outputs": [],
   "source": [
    "# Returning the details of the best solution.\n",
    "solution, solution_fitness, solution_idx = ga_instance2.best_solution()\n",
    "print(\"Parameters of the best solution : {solution}\".format(solution=solution))\n",
    "print(\"Fitness value of the best solution = {solution_fitness}\".format(solution_fitness=solution_fitness)) \n",
    "print(\"Index of the best solution : {solution_idx}\".format(solution_idx=solution_idx))"
   ]
  },
  {
   "cell_type": "code",
   "execution_count": null,
   "id": "47dc2637",
   "metadata": {},
   "outputs": [],
   "source": [
    "# Check the model's prediction\n",
    "prediction3 = numpy.sum(numpy.array(water_model3.function_inputs)*solution)\n",
    "print(\"Predicted output based on the best solution :{prediction}\".format(prediction=prediction3))\n",
    "\n",
    "if ga_instance2.best_solution_generation != -1:\n",
    "    print(\"Best fitness value reached after {best_solution_generation} generations.\".format(best_solution_generation=ga_instance2.best_solution_generation))"
   ]
  },
  {
   "cell_type": "code",
   "execution_count": null,
   "id": "03b90d93",
   "metadata": {},
   "outputs": [],
   "source": [
    "# Merge all our solutions per generation\n",
    "solution_per_generation = glob.glob(f\"{water_model3.temp_dir}/GENERATION_*\")\n",
    "water_model3.export_results(solutions = solution_per_generation,path=None, name='optimization-result-per-generation_'+water_model.node.lower())\n",
    "\n",
    "result_generation = pd.read_csv(water_model3.merged_result+'/optimization-result-per-generation_'+water_model.node.lower()+'.csv')\n",
    "result_generation"
   ]
  },
  {
   "cell_type": "code",
   "execution_count": null,
   "id": "329ce9a1",
   "metadata": {},
   "outputs": [],
   "source": [
    "fitness_solution_per_population = glob.glob(f\"{water_model3.temp_dir}/FITNESS_SOLUTION_*\")\n",
    "\n",
    "water_model3.export_results(solutions = fitness_solution_per_population, path=None, name='optimization-result-per-fitness_'+water_model.node.lower())\n",
    "fitness_solution_per_population = pd.read_csv(water_model3.merged_result+'/optimization-result-per-fitness_'+water_model.node.lower()+'.csv')\n",
    "fitness_solution_per_population"
   ]
  },
  {
   "cell_type": "code",
   "execution_count": null,
   "id": "f430983b",
   "metadata": {},
   "outputs": [],
   "source": [
    "final_data = pd.merge(fitness_solution_per_population,result_generation, how='left',left_on='FITNESS',right_on='FITNESS')\n",
    "final_data = final_data.sort_values(by='FITNESS',ascending=True)\n",
    "final_data"
   ]
  },
  {
   "cell_type": "code",
   "execution_count": null,
   "id": "d993bac8",
   "metadata": {},
   "outputs": [],
   "source": [
    "final_data.groupby(['GENERATION'])['PRESSURE_OUTPUT'].min().to_frame().plot()\n",
    "plt.xlabel('GENERATION',fontsize=14)\n",
    "plt.ylabel('PRESSURE (m)',fontsize=14)\n",
    "plt.title('PRESSURE vs GENERATION',fontsize=16)\n",
    "plt.savefig(water_model3.plots_dir+\"/PRESSURE_VS_GENERATION.png\")\n",
    "plt.show();\n",
    "plt.close()"
   ]
  },
  {
   "cell_type": "code",
   "execution_count": null,
   "id": "b23bba49",
   "metadata": {},
   "outputs": [],
   "source": [
    "final_data.groupby(['GENERATION'])['EMITTER_COEFFICIENT_SOLUTION'].max().to_frame().plot()\n",
    "plt.xlabel('GENERATION',fontsize=14)\n",
    "plt.ylabel('EMITTER_COFFICIENT',fontsize=14)\n",
    "plt.title('EMITTER COEFFICIENT vs GENERATION',fontsize=16)\n",
    "plt.show();\n",
    "plt.savefig(f\"{water_model3.plots_dir}/EMITTER_COEFFICIENT.png\");\n",
    "plt.close()"
   ]
  },
  {
   "cell_type": "code",
   "execution_count": null,
   "id": "af230b4d",
   "metadata": {},
   "outputs": [],
   "source": [
    "final_data.groupby(['GENERATION'])['FITNESS'].max().to_frame().plot()\n",
    "plt.xlabel('GENERATIONS',fontsize=14) \n",
    "plt.ylabel('FITNESS',fontsize=14)\n",
    "plt.title('FITNESS vs GENERATION',fontsize=16)\n",
    "plt.show();\n",
    "plt.savefig(f\"{water_model3.plots_dir}/FITNESS_GEN.png\")\n",
    "plt.close()"
   ]
  },
  {
   "cell_type": "code",
   "execution_count": null,
   "id": "6660eff6",
   "metadata": {},
   "outputs": [],
   "source": [
    "final_data.groupby(['GENERATION'])['OUTPUT_DEMAND'].max().to_frame().plot()\n",
    "plt.xlabel('GENERATIONS',fontsize=14) ### population\n",
    "plt.ylabel('DEMAND (LPS)',fontsize=14)\n",
    "plt.title('DEMAND vs GENERATIONS',fontsize=16)\n",
    "plt.show();\n",
    "plt.savefig(f\"{water_model3.plots_dir}/DEMAND_VS_GEN.png\")\n",
    "plt.close()"
   ]
  },
  {
   "cell_type": "code",
   "execution_count": null,
   "id": "736b2805",
   "metadata": {},
   "outputs": [],
   "source": [
    "# Check solution for confirmation\n",
    "wn = wntr.network.WaterNetworkModel(water_model3.inp_file_path)\n",
    "results = water_model3.change_discharge_coefficient(wn, emitter_value=abs(solution[0]))\n",
    "\n",
    "pressure = results.node['pressure']\n",
    "presssure_at_N13 = pressure.loc[:,water_model3.node]\n",
    "print(presssure_at_N13)"
   ]
  },
  {
   "cell_type": "code",
   "execution_count": null,
   "id": "82e482cb",
   "metadata": {},
   "outputs": [],
   "source": [
    "# Plot results on the network:\n",
    "pressure_after_simulation = pressure_at_0hr.node['pressure'].iloc[:]\n",
    "\n",
    "# Plot solution vs measurements\n",
    "plt.plot(pressure_after_simulation.squeeze().values);\n",
    "plt.plot(pressure.squeeze().values)\n",
    "plt.legend(['Simulated Pressure','Observed pressure']);\n",
    "plt.xticks(np.arange(16), ['N1','N2','N3','N4','N5','N6','N7','N8','N9','N10','N11','N12','N13','N14','N15','N16']);\n",
    "plt.title('Pressue Before v Pressure After optimization');\n",
    "plt.savefig(f\"{water_model3.plots_dir}/pressure_before_and_after_optimization.png\")"
   ]
  },
  {
   "cell_type": "code",
   "execution_count": null,
   "id": "6b57098e",
   "metadata": {},
   "outputs": [],
   "source": []
  }
 ],
 "metadata": {
  "kernelspec": {
   "display_name": "Python 3 (ipykernel)",
   "language": "python",
   "name": "python3"
  },
  "language_info": {
   "codemirror_mode": {
    "name": "ipython",
    "version": 3
   },
   "file_extension": ".py",
   "mimetype": "text/x-python",
   "name": "python",
   "nbconvert_exporter": "python",
   "pygments_lexer": "ipython3",
   "version": "3.8.8"
  }
 },
 "nbformat": 4,
 "nbformat_minor": 5
}
