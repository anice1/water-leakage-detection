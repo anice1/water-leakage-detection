{
 "cells": [
  {
   "cell_type": "markdown",
   "id": "e6b73ac0",
   "metadata": {},
   "source": [
    "## Import Necessary Libraries"
   ]
  },
  {
   "cell_type": "code",
   "execution_count": 1,
   "id": "a750617e",
   "metadata": {},
   "outputs": [],
   "source": [
    "import matplotlib.pyplot as plt \n",
    "import pandas as pd\n",
    "import numpy as np\n",
    "import pygad\n",
    "import glob\n",
    "import wntr\n",
    "import os"
   ]
  },
  {
   "cell_type": "code",
   "execution_count": 2,
   "id": "2b7cfeb9",
   "metadata": {},
   "outputs": [],
   "source": [
    "import warnings\n",
    "warnings.filterwarnings('ignore')"
   ]
  },
  {
   "cell_type": "markdown",
   "id": "99ffa3d4",
   "metadata": {},
   "source": [
    "## Read Inp File"
   ]
  },
  {
   "cell_type": "code",
   "execution_count": 3,
   "id": "6a7ecec8",
   "metadata": {},
   "outputs": [],
   "source": [
    "class Config:\n",
    "    num_generations =400 #Number of generations.\n",
    "    num_parents_mating = 2 # Number of solutions to be selected as parents in the mating pool.\n",
    "    sol_per_pop = 30 # Number of solutions in the population.\n",
    "    num_genes = 1 #len(function_inputs) --> this can be an array\n",
    "    init_range_low = 0\n",
    "    init_range_high = 1\n",
    "    parent_selection_type = \"sss\" # Type of parent selection.\n",
    "    keep_parents = -1 # Number of parents to keep in the next population. -1 means keep all parents and 0 means keep nothing.\n",
    "    crossover_type = \"single_point\" # Type of the crossover operator. \n",
    "    mutation_type = \"random\" # Type of the mutation operator.\n",
    "    mutation_percent_genes = 100 # Percentage of genes to mutate. This parameter has no action if the \n",
    "    last_fitness = 0\n",
    "    \n",
    "    \n",
    "    INP_FILE_PATH = \"../data/Real_Synthetic_Net.inp\" \n",
    "    TEMP_DIR = \"../temp/\"\n",
    "    PLOTS_DIR = \"../plots\"\n",
    "    FUNCTION_INPUTS = None\n",
    "    DESIRED_OUTPUT = None\n",
    "    \n",
    "    @staticmethod\n",
    "    def callback_generation(ga_instance): # This function prints algorithm progress\n",
    "        global last_fitness\n",
    "        print(\"Generation = {generation}\".format(generation=ga_instance.generations_completed)) \n",
    "        print(\"Fitness = {fitness}\".format(fitness=ga_instance.best_solution()[1]))\n",
    "        print(\"Change = {change}\".format(change=ga_instance.best_solution()[1] - last_fitness)) \n",
    "\n",
    "        data =pd.DataFrame(columns=['GENERATION','FITNESS'])\n",
    "        data =data.append({'GENERATION':ga_instance.generations_completed,'FITNESS': ga_instance.best_solution ()[1]},ignore_index=True)\n",
    "        data.to_csv(+\"GENERATION_\"+str(ga_instance.generations_completed)+'.csv',index=False) \n",
    "        last_fitness = ga_instance.best_solution()[1]"
   ]
  },
  {
   "cell_type": "code",
   "execution_count": 53,
   "id": "9f68af26",
   "metadata": {},
   "outputs": [],
   "source": [
    "class WaterModel:\n",
    "    \n",
    "    def __init__(self, node:str):\n",
    "        ''' \n",
    "            node: node/junction ID in the network\n",
    "        '''\n",
    "        self.node = node\n",
    "        self.INP_FILE_PATH = \"../data/Real_Synthetic_Net.inp\"\n",
    "    \n",
    "    def simulate(self):\n",
    "        # Plot pressure after add leak to node\n",
    "        sim = wntr.sim.WNTRSimulator(wn)\n",
    "        results = sim.run_sim().node['pressure']\n",
    "        pressure_at_N6 = results.loc[:,wn.junction_name_list[5]]\n",
    "        wntr.graphics.plot_network(wn, node_attribute=results.any(), node_size=150, title='Pressure at 0 hours')\n",
    "        \n",
    "        return pressure_at_N6\n",
    "    \n",
    "    def change_ef(self, emitter_value):\n",
    "        \"\"\"\n",
    "        This function changes the emitter coefficient for selected node in the network, and create a \n",
    "        structured representation of our data, a csv.\n",
    "        \n",
    "        parameters\n",
    "        ----------\n",
    "        emitter_value: the emitter coefficient value\n",
    "        \"\"\"\n",
    "        \n",
    "        file = open(self.INP_FILE_PATH)\n",
    "        temp_file = file.readlines()\n",
    "        line_length = []\n",
    "        \n",
    "        #loop through file line by line\n",
    "        for _ in range(len(temp_file)):\n",
    "            line = temp_file[_]\n",
    "            line = line.split('\\t')\n",
    "            line_length.append(len(line))\n",
    "        \n",
    "        # Get the maximum line length in the splitted file so as to enable us get all data without missing any.\n",
    "        max_length = max(line_length)\n",
    "        new_cols = list(range(max_length))\n",
    "        print(new_cols)\n",
    "        # Set col names only serving as placeholders for our next operation\n",
    "        new_cols[0] = 'random_elements'\n",
    "        new_cols[1] = 'emitter_value' \n",
    "\n",
    "        # Get data into a temporary structured format, a csv\n",
    "        df = pd.read_csv(open('../data/Real_Synthetic_Net.inp'), header=None,sep='\\t', names=new_cols)\n",
    "        print(df)\n",
    "        emitters = np.where(df['random_elements'] == '[EMITTERS]')[0][0]\n",
    "        \n",
    "        #find the the Node we are looking for, we'll start looking for this node from wherever \\ \n",
    "        # we first found '[EMITTERS]' as that's the only place our emitter coeff values can be found.\n",
    "        for i in range(emitters+2, emitters+100):\n",
    "            if str(df['random_elements'][i].strip()) == self.node:\n",
    "                print('Reached Here', i)\n",
    "                df['emitter_value'][i] = emitter_value\n",
    "                break\n",
    "        \n",
    "        # Export the csv the data\n",
    "        df.to_csv(open('../data/Real_Synthetic_Net.inp'), header=None, index=False, sep='\\t')"
   ]
  },
  {
   "cell_type": "code",
   "execution_count": 54,
   "id": "bb819e15",
   "metadata": {},
   "outputs": [
    {
     "data": {
      "image/png": "[encoded data removed]",
      "text/plain": [
       "<Figure size 432x288 with 2 Axes>"
      ]
     },
     "metadata": {},
     "output_type": "display_data"
    }
   ],
   "source": [
    "# Instantiate the pygad optimization class\n",
    "config = Config()\n",
    "water_model = WaterModel(node='N6')\n",
    "\n",
    "wn = wntr.network.WaterNetworkModel(config.INP_FILE_PATH)\n",
    "\n",
    "node = wn.get_node('N6')\n",
    "water_model.simulate()\n",
    "config.FUNCTION_INPUTS = 0.8\n",
    "config.DESIRED_OUTPUT = node.head - node.elevation"
   ]
  },
  {
   "cell_type": "code",
   "execution_count": 55,
   "id": "e75cc92c",
   "metadata": {},
   "outputs": [],
   "source": [
    "def fitness_function(solution, solution_idx):\n",
    "        \n",
    "        water_model.change_ef(emitter_value=abs(solution[0])) #change emitter coefficient\n",
    "        wn = wntr.network.WaterNetworkModel(config.INP_FILE_PATH)\n",
    "        \n",
    "        sim = wntr.sim.WNTRSimulator(wn)\n",
    "        \n",
    "        results = sim.run_sim()\n",
    "        pressure = results.node['pressure']\n",
    "        output = pressure.loc[:,'N6']\n",
    "        demands=results.node['demand']\n",
    "        output_demand = demands.loc[:,'N6']\n",
    "        \n",
    "        fitness = 1.0 / (np.abs(output - desired_output) + 0.000001)\n",
    "        \n",
    "        # Structure and export the output of the fitness\n",
    "        data = pd.DataFrame(columns=['EMITTER_COEFFIENT','HEAD','DEMAND','FITNESS'])\n",
    "        data = data.append({'EMITTER_COEFFICIENT':abs(solution[0]),'HEAD':list(output)[0],'DEMAND':(list(output_demand) [0]*1000),'FITNESS':list(fitness)[0]},ignore_index=True)\n",
    "        \n",
    "        data.to_csv(f\"{config.TEMP_DIR}SOLUTION_{str(abs(solution[0]))}.csv\",index=False) \n",
    "        print (abs(solution[0]),'....',list(output)[0],'....',list(fitness)[0])\n",
    "        \n",
    "        return list(fitness)[0]"
   ]
  },
  {
   "cell_type": "code",
   "execution_count": 56,
   "id": "a08f411c",
   "metadata": {},
   "outputs": [],
   "source": [
    "# Instantiate the pygad optimization class\n",
    "ga_instance = pygad.GA(num_generations=config.num_generations,\n",
    "                       num_parents_mating=config.num_parents_mating, \n",
    "                       fitness_func=fitness_function, \n",
    "                       sol_per_pop=config.sol_per_pop,\n",
    "                       num_genes=config.num_genes,\n",
    "                       init_range_low=config.init_range_low,\n",
    "                       init_range_high=config.init_range_high,\n",
    "                       parent_selection_type=config.parent_selection_type,\n",
    "                       keep_parents=config.keep_parents,\n",
    "                       crossover_type=config.crossover_type,\n",
    "                       mutation_type=config.mutation_type,\n",
    "                       mutation_percent_genes=config.mutation_percent_genes,\n",
    "                       callback_generation=config.callback_generation)"
   ]
  },
  {
   "cell_type": "code",
   "execution_count": 57,
   "id": "6c605b41",
   "metadata": {
    "scrolled": true
   },
   "outputs": [
    {
     "name": "stdout",
     "output_type": "stream",
     "text": [
      "[0, 1, 2, 3, 4, 5, 6, 7, 8]\n",
      "       random_elements     emitter_value                 2                 3  \\\n",
      "0              [TITLE]               NaN               NaN               NaN   \n",
      "1          [JUNCTIONS]               NaN               NaN               NaN   \n",
      "2    ;ID                    Elev              Demand        Pattern            \n",
      "3     N1                    25                1                                \n",
      "4     N5                    10                13                               \n",
      "..                 ...               ...               ...               ...   \n",
      "138    DIMENSIONS       0.00              0.00              10000.00           \n",
      "139    UNITS                        None               NaN               NaN   \n",
      "140    FILE                          NaN               NaN               NaN   \n",
      "141    OFFSET           0.00              0.00                           NaN   \n",
      "142              [END]               NaN               NaN               NaN   \n",
      "\n",
      "                    4    5    6    7    8  \n",
      "0                 NaN  NaN  NaN  NaN  NaN  \n",
      "1                 NaN  NaN  NaN  NaN  NaN  \n",
      "2                 NaN  NaN  NaN  NaN  NaN  \n",
      "3                   ;  NaN  NaN  NaN  NaN  \n",
      "4                   ;  NaN  NaN  NaN  NaN  \n",
      "..                ...  ...  ...  ...  ...  \n",
      "138  10000.00          NaN  NaN  NaN  NaN  \n",
      "139               NaN  NaN  NaN  NaN  NaN  \n",
      "140               NaN  NaN  NaN  NaN  NaN  \n",
      "141               NaN  NaN  NaN  NaN  NaN  \n",
      "142               NaN  NaN  NaN  NaN  NaN  \n",
      "\n",
      "[143 rows x 9 columns]\n",
      "Reached Here 121\n"
     ]
    },
    {
     "ename": "UnsupportedOperation",
     "evalue": "not writable",
     "output_type": "error",
     "traceback": [
      "\u001b[0;31m---------------------------------------------------------------------------\u001b[0m",
      "\u001b[0;31mUnsupportedOperation\u001b[0m                      Traceback (most recent call last)",
      "\u001b[0;32m/var/folders/zf/nmlxjncx1y1dzrhzmb_8dm700000gn/T/ipykernel_23888/2488311474.py\u001b[0m in \u001b[0;36m<module>\u001b[0;34m\u001b[0m\n\u001b[0;32m----> 1\u001b[0;31m \u001b[0mga_instance\u001b[0m\u001b[0;34m.\u001b[0m\u001b[0mrun\u001b[0m\u001b[0;34m(\u001b[0m\u001b[0;34m)\u001b[0m\u001b[0;34m\u001b[0m\u001b[0;34m\u001b[0m\u001b[0m\n\u001b[0m",
      "\u001b[0;32m/opt/anaconda3/lib/python3.8/site-packages/pygad/pygad.py\u001b[0m in \u001b[0;36mrun\u001b[0;34m(self)\u001b[0m\n\u001b[1;32m   1190\u001b[0m \u001b[0;34m\u001b[0m\u001b[0m\n\u001b[1;32m   1191\u001b[0m         \u001b[0;31m# Measuring the fitness of each chromosome in the population. Save the fitness in the last_generation_fitness attribute.\u001b[0m\u001b[0;34m\u001b[0m\u001b[0;34m\u001b[0m\u001b[0;34m\u001b[0m\u001b[0m\n\u001b[0;32m-> 1192\u001b[0;31m         \u001b[0mself\u001b[0m\u001b[0;34m.\u001b[0m\u001b[0mlast_generation_fitness\u001b[0m \u001b[0;34m=\u001b[0m \u001b[0mself\u001b[0m\u001b[0;34m.\u001b[0m\u001b[0mcal_pop_fitness\u001b[0m\u001b[0;34m(\u001b[0m\u001b[0;34m)\u001b[0m\u001b[0;34m\u001b[0m\u001b[0;34m\u001b[0m\u001b[0m\n\u001b[0m\u001b[1;32m   1193\u001b[0m \u001b[0;34m\u001b[0m\u001b[0m\n\u001b[1;32m   1194\u001b[0m         \u001b[0mbest_solution\u001b[0m\u001b[0;34m,\u001b[0m \u001b[0mbest_solution_fitness\u001b[0m\u001b[0;34m,\u001b[0m \u001b[0mbest_match_idx\u001b[0m \u001b[0;34m=\u001b[0m \u001b[0mself\u001b[0m\u001b[0;34m.\u001b[0m\u001b[0mbest_solution\u001b[0m\u001b[0;34m(\u001b[0m\u001b[0mpop_fitness\u001b[0m\u001b[0;34m=\u001b[0m\u001b[0mself\u001b[0m\u001b[0;34m.\u001b[0m\u001b[0mlast_generation_fitness\u001b[0m\u001b[0;34m)\u001b[0m\u001b[0;34m\u001b[0m\u001b[0;34m\u001b[0m\u001b[0m\n",
      "\u001b[0;32m/opt/anaconda3/lib/python3.8/site-packages/pygad/pygad.py\u001b[0m in \u001b[0;36mcal_pop_fitness\u001b[0;34m(self)\u001b[0m\n\u001b[1;32m   1157\u001b[0m                 \u001b[0mfitness\u001b[0m \u001b[0;34m=\u001b[0m \u001b[0mself\u001b[0m\u001b[0;34m.\u001b[0m\u001b[0mprevious_generation_fitness\u001b[0m\u001b[0;34m[\u001b[0m\u001b[0mparent_idx\u001b[0m\u001b[0;34m]\u001b[0m\u001b[0;34m\u001b[0m\u001b[0;34m\u001b[0m\u001b[0m\n\u001b[1;32m   1158\u001b[0m             \u001b[0;32melse\u001b[0m\u001b[0;34m:\u001b[0m\u001b[0;34m\u001b[0m\u001b[0;34m\u001b[0m\u001b[0m\n\u001b[0;32m-> 1159\u001b[0;31m                 \u001b[0mfitness\u001b[0m \u001b[0;34m=\u001b[0m \u001b[0mself\u001b[0m\u001b[0;34m.\u001b[0m\u001b[0mfitness_func\u001b[0m\u001b[0;34m(\u001b[0m\u001b[0msol\u001b[0m\u001b[0;34m,\u001b[0m \u001b[0msol_idx\u001b[0m\u001b[0;34m)\u001b[0m\u001b[0;34m\u001b[0m\u001b[0;34m\u001b[0m\u001b[0m\n\u001b[0m\u001b[1;32m   1160\u001b[0m                 \u001b[0;32mif\u001b[0m \u001b[0mtype\u001b[0m\u001b[0;34m(\u001b[0m\u001b[0mfitness\u001b[0m\u001b[0;34m)\u001b[0m \u001b[0;32min\u001b[0m \u001b[0mGA\u001b[0m\u001b[0;34m.\u001b[0m\u001b[0msupported_int_float_types\u001b[0m\u001b[0;34m:\u001b[0m\u001b[0;34m\u001b[0m\u001b[0;34m\u001b[0m\u001b[0m\n\u001b[1;32m   1161\u001b[0m                     \u001b[0;32mpass\u001b[0m\u001b[0;34m\u001b[0m\u001b[0;34m\u001b[0m\u001b[0m\n",
      "\u001b[0;32m/var/folders/zf/nmlxjncx1y1dzrhzmb_8dm700000gn/T/ipykernel_23888/3231933458.py\u001b[0m in \u001b[0;36mfitness_function\u001b[0;34m(solution, solution_idx)\u001b[0m\n\u001b[1;32m      1\u001b[0m \u001b[0;32mdef\u001b[0m \u001b[0mfitness_function\u001b[0m\u001b[0;34m(\u001b[0m\u001b[0msolution\u001b[0m\u001b[0;34m,\u001b[0m \u001b[0msolution_idx\u001b[0m\u001b[0;34m)\u001b[0m\u001b[0;34m:\u001b[0m\u001b[0;34m\u001b[0m\u001b[0;34m\u001b[0m\u001b[0m\n\u001b[1;32m      2\u001b[0m \u001b[0;34m\u001b[0m\u001b[0m\n\u001b[0;32m----> 3\u001b[0;31m         \u001b[0mwater_model\u001b[0m\u001b[0;34m.\u001b[0m\u001b[0mchange_ef\u001b[0m\u001b[0;34m(\u001b[0m\u001b[0memitter_value\u001b[0m\u001b[0;34m=\u001b[0m\u001b[0mabs\u001b[0m\u001b[0;34m(\u001b[0m\u001b[0msolution\u001b[0m\u001b[0;34m[\u001b[0m\u001b[0;36m0\u001b[0m\u001b[0;34m]\u001b[0m\u001b[0;34m)\u001b[0m\u001b[0;34m)\u001b[0m \u001b[0;31m#change emitter coefficient\u001b[0m\u001b[0;34m\u001b[0m\u001b[0;34m\u001b[0m\u001b[0m\n\u001b[0m\u001b[1;32m      4\u001b[0m         \u001b[0mwn\u001b[0m \u001b[0;34m=\u001b[0m \u001b[0mwntr\u001b[0m\u001b[0;34m.\u001b[0m\u001b[0mnetwork\u001b[0m\u001b[0;34m.\u001b[0m\u001b[0mWaterNetworkModel\u001b[0m\u001b[0;34m(\u001b[0m\u001b[0mconfig\u001b[0m\u001b[0;34m.\u001b[0m\u001b[0mINP_FILE_PATH\u001b[0m\u001b[0;34m)\u001b[0m\u001b[0;34m\u001b[0m\u001b[0;34m\u001b[0m\u001b[0m\n\u001b[1;32m      5\u001b[0m \u001b[0;34m\u001b[0m\u001b[0m\n",
      "\u001b[0;32m/var/folders/zf/nmlxjncx1y1dzrhzmb_8dm700000gn/T/ipykernel_23888/1515929936.py\u001b[0m in \u001b[0;36mchange_ef\u001b[0;34m(self, emitter_value)\u001b[0m\n\u001b[1;32m     59\u001b[0m \u001b[0;34m\u001b[0m\u001b[0m\n\u001b[1;32m     60\u001b[0m         \u001b[0;31m# Export the csv the data\u001b[0m\u001b[0;34m\u001b[0m\u001b[0;34m\u001b[0m\u001b[0;34m\u001b[0m\u001b[0m\n\u001b[0;32m---> 61\u001b[0;31m         \u001b[0mdf\u001b[0m\u001b[0;34m.\u001b[0m\u001b[0mto_csv\u001b[0m\u001b[0;34m(\u001b[0m\u001b[0mopen\u001b[0m\u001b[0;34m(\u001b[0m\u001b[0;34m'../data/Real_Synthetic_Net.inp'\u001b[0m\u001b[0;34m)\u001b[0m\u001b[0;34m,\u001b[0m \u001b[0mheader\u001b[0m\u001b[0;34m=\u001b[0m\u001b[0;32mNone\u001b[0m\u001b[0;34m,\u001b[0m \u001b[0mindex\u001b[0m\u001b[0;34m=\u001b[0m\u001b[0;32mFalse\u001b[0m\u001b[0;34m,\u001b[0m \u001b[0msep\u001b[0m\u001b[0;34m=\u001b[0m\u001b[0;34m'\\t'\u001b[0m\u001b[0;34m)\u001b[0m\u001b[0;34m\u001b[0m\u001b[0;34m\u001b[0m\u001b[0m\n\u001b[0m",
      "\u001b[0;32m/opt/anaconda3/lib/python3.8/site-packages/pandas/core/generic.py\u001b[0m in \u001b[0;36mto_csv\u001b[0;34m(self, path_or_buf, sep, na_rep, float_format, columns, header, index, index_label, mode, encoding, compression, quoting, quotechar, line_terminator, chunksize, date_format, doublequote, escapechar, decimal, errors, storage_options)\u001b[0m\n\u001b[1;32m   3385\u001b[0m         )\n\u001b[1;32m   3386\u001b[0m \u001b[0;34m\u001b[0m\u001b[0m\n\u001b[0;32m-> 3387\u001b[0;31m         return DataFrameRenderer(formatter).to_csv(\n\u001b[0m\u001b[1;32m   3388\u001b[0m             \u001b[0mpath_or_buf\u001b[0m\u001b[0;34m,\u001b[0m\u001b[0;34m\u001b[0m\u001b[0;34m\u001b[0m\u001b[0m\n\u001b[1;32m   3389\u001b[0m             \u001b[0mline_terminator\u001b[0m\u001b[0;34m=\u001b[0m\u001b[0mline_terminator\u001b[0m\u001b[0;34m,\u001b[0m\u001b[0;34m\u001b[0m\u001b[0;34m\u001b[0m\u001b[0m\n",
      "\u001b[0;32m/opt/anaconda3/lib/python3.8/site-packages/pandas/io/formats/format.py\u001b[0m in \u001b[0;36mto_csv\u001b[0;34m(self, path_or_buf, encoding, sep, columns, index_label, mode, compression, quoting, quotechar, line_terminator, chunksize, date_format, doublequote, escapechar, errors, storage_options)\u001b[0m\n\u001b[1;32m   1081\u001b[0m             \u001b[0mformatter\u001b[0m\u001b[0;34m=\u001b[0m\u001b[0mself\u001b[0m\u001b[0;34m.\u001b[0m\u001b[0mfmt\u001b[0m\u001b[0;34m,\u001b[0m\u001b[0;34m\u001b[0m\u001b[0;34m\u001b[0m\u001b[0m\n\u001b[1;32m   1082\u001b[0m         )\n\u001b[0;32m-> 1083\u001b[0;31m         \u001b[0mcsv_formatter\u001b[0m\u001b[0;34m.\u001b[0m\u001b[0msave\u001b[0m\u001b[0;34m(\u001b[0m\u001b[0;34m)\u001b[0m\u001b[0;34m\u001b[0m\u001b[0;34m\u001b[0m\u001b[0m\n\u001b[0m\u001b[1;32m   1084\u001b[0m \u001b[0;34m\u001b[0m\u001b[0m\n\u001b[1;32m   1085\u001b[0m         \u001b[0;32mif\u001b[0m \u001b[0mcreated_buffer\u001b[0m\u001b[0;34m:\u001b[0m\u001b[0;34m\u001b[0m\u001b[0;34m\u001b[0m\u001b[0m\n",
      "\u001b[0;32m/opt/anaconda3/lib/python3.8/site-packages/pandas/io/formats/csvs.py\u001b[0m in \u001b[0;36msave\u001b[0;34m(self)\u001b[0m\n\u001b[1;32m    246\u001b[0m             )\n\u001b[1;32m    247\u001b[0m \u001b[0;34m\u001b[0m\u001b[0m\n\u001b[0;32m--> 248\u001b[0;31m             \u001b[0mself\u001b[0m\u001b[0;34m.\u001b[0m\u001b[0m_save\u001b[0m\u001b[0;34m(\u001b[0m\u001b[0;34m)\u001b[0m\u001b[0;34m\u001b[0m\u001b[0;34m\u001b[0m\u001b[0m\n\u001b[0m\u001b[1;32m    249\u001b[0m \u001b[0;34m\u001b[0m\u001b[0m\n\u001b[1;32m    250\u001b[0m     \u001b[0;32mdef\u001b[0m \u001b[0m_save\u001b[0m\u001b[0;34m(\u001b[0m\u001b[0mself\u001b[0m\u001b[0;34m)\u001b[0m \u001b[0;34m->\u001b[0m \u001b[0;32mNone\u001b[0m\u001b[0;34m:\u001b[0m\u001b[0;34m\u001b[0m\u001b[0;34m\u001b[0m\u001b[0m\n",
      "\u001b[0;32m/opt/anaconda3/lib/python3.8/site-packages/pandas/io/formats/csvs.py\u001b[0m in \u001b[0;36m_save\u001b[0;34m(self)\u001b[0m\n\u001b[1;32m    251\u001b[0m         \u001b[0;32mif\u001b[0m \u001b[0mself\u001b[0m\u001b[0;34m.\u001b[0m\u001b[0m_need_to_save_header\u001b[0m\u001b[0;34m:\u001b[0m\u001b[0;34m\u001b[0m\u001b[0;34m\u001b[0m\u001b[0m\n\u001b[1;32m    252\u001b[0m             \u001b[0mself\u001b[0m\u001b[0;34m.\u001b[0m\u001b[0m_save_header\u001b[0m\u001b[0;34m(\u001b[0m\u001b[0;34m)\u001b[0m\u001b[0;34m\u001b[0m\u001b[0;34m\u001b[0m\u001b[0m\n\u001b[0;32m--> 253\u001b[0;31m         \u001b[0mself\u001b[0m\u001b[0;34m.\u001b[0m\u001b[0m_save_body\u001b[0m\u001b[0;34m(\u001b[0m\u001b[0;34m)\u001b[0m\u001b[0;34m\u001b[0m\u001b[0;34m\u001b[0m\u001b[0m\n\u001b[0m\u001b[1;32m    254\u001b[0m \u001b[0;34m\u001b[0m\u001b[0m\n\u001b[1;32m    255\u001b[0m     \u001b[0;32mdef\u001b[0m \u001b[0m_save_header\u001b[0m\u001b[0;34m(\u001b[0m\u001b[0mself\u001b[0m\u001b[0;34m)\u001b[0m \u001b[0;34m->\u001b[0m \u001b[0;32mNone\u001b[0m\u001b[0;34m:\u001b[0m\u001b[0;34m\u001b[0m\u001b[0;34m\u001b[0m\u001b[0m\n",
      "\u001b[0;32m/opt/anaconda3/lib/python3.8/site-packages/pandas/io/formats/csvs.py\u001b[0m in \u001b[0;36m_save_body\u001b[0;34m(self)\u001b[0m\n\u001b[1;32m    289\u001b[0m             \u001b[0;32mif\u001b[0m \u001b[0mstart_i\u001b[0m \u001b[0;34m>=\u001b[0m \u001b[0mend_i\u001b[0m\u001b[0;34m:\u001b[0m\u001b[0;34m\u001b[0m\u001b[0;34m\u001b[0m\u001b[0m\n\u001b[1;32m    290\u001b[0m                 \u001b[0;32mbreak\u001b[0m\u001b[0;34m\u001b[0m\u001b[0;34m\u001b[0m\u001b[0m\n\u001b[0;32m--> 291\u001b[0;31m             \u001b[0mself\u001b[0m\u001b[0;34m.\u001b[0m\u001b[0m_save_chunk\u001b[0m\u001b[0;34m(\u001b[0m\u001b[0mstart_i\u001b[0m\u001b[0;34m,\u001b[0m \u001b[0mend_i\u001b[0m\u001b[0;34m)\u001b[0m\u001b[0;34m\u001b[0m\u001b[0;34m\u001b[0m\u001b[0m\n\u001b[0m\u001b[1;32m    292\u001b[0m \u001b[0;34m\u001b[0m\u001b[0m\n\u001b[1;32m    293\u001b[0m     \u001b[0;32mdef\u001b[0m \u001b[0m_save_chunk\u001b[0m\u001b[0;34m(\u001b[0m\u001b[0mself\u001b[0m\u001b[0;34m,\u001b[0m \u001b[0mstart_i\u001b[0m\u001b[0;34m:\u001b[0m \u001b[0mint\u001b[0m\u001b[0;34m,\u001b[0m \u001b[0mend_i\u001b[0m\u001b[0;34m:\u001b[0m \u001b[0mint\u001b[0m\u001b[0;34m)\u001b[0m \u001b[0;34m->\u001b[0m \u001b[0;32mNone\u001b[0m\u001b[0;34m:\u001b[0m\u001b[0;34m\u001b[0m\u001b[0;34m\u001b[0m\u001b[0m\n",
      "\u001b[0;32m/opt/anaconda3/lib/python3.8/site-packages/pandas/io/formats/csvs.py\u001b[0m in \u001b[0;36m_save_chunk\u001b[0;34m(self, start_i, end_i)\u001b[0m\n\u001b[1;32m    300\u001b[0m \u001b[0;34m\u001b[0m\u001b[0m\n\u001b[1;32m    301\u001b[0m         \u001b[0mix\u001b[0m \u001b[0;34m=\u001b[0m \u001b[0mself\u001b[0m\u001b[0;34m.\u001b[0m\u001b[0mdata_index\u001b[0m\u001b[0;34m[\u001b[0m\u001b[0mslicer\u001b[0m\u001b[0;34m]\u001b[0m\u001b[0;34m.\u001b[0m\u001b[0m_format_native_types\u001b[0m\u001b[0;34m(\u001b[0m\u001b[0;34m**\u001b[0m\u001b[0mself\u001b[0m\u001b[0;34m.\u001b[0m\u001b[0m_number_format\u001b[0m\u001b[0;34m)\u001b[0m\u001b[0;34m\u001b[0m\u001b[0;34m\u001b[0m\u001b[0m\n\u001b[0;32m--> 302\u001b[0;31m         \u001b[0mlibwriters\u001b[0m\u001b[0;34m.\u001b[0m\u001b[0mwrite_csv_rows\u001b[0m\u001b[0;34m(\u001b[0m\u001b[0mdata\u001b[0m\u001b[0;34m,\u001b[0m \u001b[0mix\u001b[0m\u001b[0;34m,\u001b[0m \u001b[0mself\u001b[0m\u001b[0;34m.\u001b[0m\u001b[0mnlevels\u001b[0m\u001b[0;34m,\u001b[0m \u001b[0mself\u001b[0m\u001b[0;34m.\u001b[0m\u001b[0mcols\u001b[0m\u001b[0;34m,\u001b[0m \u001b[0mself\u001b[0m\u001b[0;34m.\u001b[0m\u001b[0mwriter\u001b[0m\u001b[0;34m)\u001b[0m\u001b[0;34m\u001b[0m\u001b[0;34m\u001b[0m\u001b[0m\n\u001b[0m",
      "\u001b[0;32mpandas/_libs/writers.pyx\u001b[0m in \u001b[0;36mpandas._libs.writers.write_csv_rows\u001b[0;34m()\u001b[0m\n",
      "\u001b[0;31mUnsupportedOperation\u001b[0m: not writable"
     ]
    }
   ],
   "source": [
    "ga_instance.run()"
   ]
  },
  {
   "cell_type": "code",
   "execution_count": null,
   "id": "2acb9a3b",
   "metadata": {},
   "outputs": [],
   "source": []
  },
  {
   "cell_type": "code",
   "execution_count": 16,
   "id": "cabc5e3a",
   "metadata": {},
   "outputs": [
    {
     "name": "stdout",
     "output_type": "stream",
     "text": [
      "Reached Here 121\n",
      "0.0807241235911732\n",
      "0.05\n"
     ]
    }
   ],
   "source": [
    "ff =open(config.INP_FILE_PATH)\n",
    "ddd = pd.read_csv(ff, header=None,sep='\\t')\n",
    "emitters = np.where(ddd[0] == '[EMITTERS]')[0][0]\n",
    "#find the the Node we are looking for, we'll start looking for this node from wherever \\ \n",
    "# we first found '[EMITTERS]' as that's the only place our emitter coeff values can be found.\n",
    "for i in range(emitters+2, emitters+100):\n",
    "    if str(ddd[0][i].strip()) == 'N6':\n",
    "        print('Reached Here', i)\n",
    "        print(ddd[1][i])\n",
    "        ddd[1][i] = 0.05\n",
    "        print(ddd[1][i])\n",
    "        break"
   ]
  },
  {
   "cell_type": "code",
   "execution_count": null,
   "id": "fc5d6241",
   "metadata": {},
   "outputs": [],
   "source": []
  },
  {
   "cell_type": "code",
   "execution_count": null,
   "id": "b32d26d0",
   "metadata": {},
   "outputs": [],
   "source": []
  },
  {
   "cell_type": "code",
   "execution_count": null,
   "id": "475a31b3",
   "metadata": {},
   "outputs": [],
   "source": []
  },
  {
   "cell_type": "code",
   "execution_count": null,
   "id": "f49167e4",
   "metadata": {},
   "outputs": [],
   "source": []
  },
  {
   "cell_type": "code",
   "execution_count": null,
   "id": "0dfeb2b9",
   "metadata": {},
   "outputs": [],
   "source": []
  },
  {
   "cell_type": "code",
   "execution_count": null,
   "id": "4083ba72",
   "metadata": {},
   "outputs": [],
   "source": [
    "inp_file=r\"../data/Real_Synthetic_Net.inp\" \n",
    "temp_dir=\"../temp\" \n",
    "plots_dir=\"../plots\"\n",
    "\n",
    "##### function to change the emitter coefficient ####\n",
    "def change_ec(inp_file,junction_id,ec): \n",
    "    infile=open(inp_file) ### read inp file\n",
    "    lines=infile.readlines() ### read lines in inp file\n",
    "    col_count=[] ### define empty list\n",
    "    \n",
    "    for em in range(len(lines)): ## for loop to iterate through all the lines\n",
    "        line=lines[em] ## read single line\n",
    "        emitter=line.split('\\t') ### seperate elements in the line by tab \n",
    "        col_count.append(len(emitter)) ### append the len of line\n",
    "    \n",
    "    max_col_count=max(col_count) ### get the maximum columns in inp files \n",
    "    col_names=list(range(max_col_count)) ### create list of columns \n",
    "    col_names[0]='elements' ### assign first column name as 'elements' \n",
    "    col_names[1]='ec_val' ### assign second column name as 'ec_val' \n",
    "    infile.close() ### close the inp file\n",
    "    \n",
    "    df=pd.read_csv(inp_file,header=None,delimiter='\\t',names=col_names) ### read the inp file using pandas\n",
    "    ind_val=np.where(df['elements']=='[EMITTERS]')[0][0] ### get the row number of [EMITTERS] \n",
    "    junction_id=str(junction_id) ## convert junction_id into string format\n",
    "    \n",
    "    for ec_ind in range(ind_val+2,ind_val+100):\n",
    "        if str(df['elements'][ec_ind].strip())==junction_id:\n",
    "            df['ec_val'][ec_ind]=ec ### assign the EC value \n",
    "            break ### break loop once we assign the ec \n",
    "    df.to_csv(inp_file,header=None,index=False,sep='\\t')"
   ]
  },
  {
   "cell_type": "code",
   "execution_count": null,
   "id": "4ffa6039",
   "metadata": {},
   "outputs": [],
   "source": [
    "function_inputs = 0.8 # input parameter (emitter coefficients) --> this could be an array of values\n",
    "desired_output = 25.6 # desired output (highest pressure at Junction 2 m)"
   ]
  },
  {
   "cell_type": "markdown",
   "id": "54675f72",
   "metadata": {},
   "source": [
    "## Define Fitness Function"
   ]
  },
  {
   "cell_type": "code",
   "execution_count": null,
   "id": "33fd1012",
   "metadata": {},
   "outputs": [],
   "source": [
    "def fitness_func(solution, solution_idx): # Calculating the fitness value of each solution in the current population.\n",
    "    CHANGE_EMITTER_COEFFICIENT(inp_file,'N6',abs(solution[0]))\n",
    "    wn = wntr.network.WaterNetworkModel(inp_file)\n",
    "    sim = wntr.sim.EpanetSimulator(wn)\n",
    "    results = sim.run_sim()\n",
    "    pressure = results.node['pressure']\n",
    "    output = pressure.loc[:,'N6']\n",
    "    demands=results.node['demand']\n",
    "    output_demand = demands.loc[:,'N6']\n",
    "    fitness = 1.0 / (np.abs(output - desired_output) + 0.000001)\n",
    "    df=pd.DataFrame(columns=['EC','HEAD_NODE2','DEMAND_NODE2','FITNESS_FUN'])\n",
    "    df=df.append({'EC':abs(solution[0]),'HEAD_NODE2':list(output)[0],'DEMAND_NODE2':(list(output_demand) [0]*1000),'FITNESS_FUN':list(fitness)[0]},ignore_index=True)\n",
    "    df.to_csv(temp_dir+\"EC_\"+str(abs(solution[0]))+'.csv',index=False) \n",
    "    print (abs(solution[0]),'....',list(output)[0],'....',list(fitness)[0])\n",
    "    return list(fitness)[0]\n",
    "\n",
    "fitness_function = fitness_func"
   ]
  },
  {
   "cell_type": "markdown",
   "id": "a2b5e136",
   "metadata": {},
   "source": [
    "## Setup Optimizer"
   ]
  },
  {
   "cell_type": "code",
   "execution_count": null,
   "id": "e7c7f5d4",
   "metadata": {},
   "outputs": [],
   "source": [
    "num_generations =100 # 500 Number of generations.\n",
    "num_parents_mating = 2 # Number of solutions to be selected as parents in the mating pool.\n",
    "sol_per_pop = 30 # Number of solutions in the population.\n",
    "num_genes = 1#len(function_inputs) --> this can be an array\n",
    "init_range_low = 0\n",
    "init_range_high = 1\n",
    "parent_selection_type = \"sss\" # Type of parent selection.\n",
    "keep_parents = -1 # Number of parents to keep in the next population. -1 means keep all parents and 0 means keep nothing.\n",
    "crossover_type = \"single_point\" # Type of the crossover operator. \n",
    "mutation_type = \"random\" # Type of the mutation operator.\n",
    "mutation_percent_genes = 100 # Percentage of genes to mutate. This parameter has no action if the \n",
    "last_fitness = 0"
   ]
  },
  {
   "cell_type": "code",
   "execution_count": null,
   "id": "4b1b0bbf",
   "metadata": {},
   "outputs": [],
   "source": [
    "def callback_generation(ga_instance): # This function prints algorithm progress\n",
    "    global last_fitness\n",
    "    print(\"Generation = {generation}\".format(generation=ga_instance.generations_completed)) \n",
    "    print(\"Fitness = {fitness}\".format(fitness=ga_instance.best_solution()[1]))\n",
    "    print(\"Change = {change}\".format(change=ga_instance.best_solution()[1] - last_fitness)) \n",
    "    df=pd.DataFrame(columns=['GENERATION','FITNESS_FUN'])\n",
    "    df=df.append({'GENERATION':ga_instance.generations_completed,'FITNESS_FUN': ga_instance.best_solution ()[1]},ignore_index=True)\n",
    "    df.to_csv(temp_dir+\"GENERATION_\"+str(ga_instance.generations_completed)+'.csv',index=False) \n",
    "    last_fitness = ga_instance.best_solution()[1]"
   ]
  },
  {
   "cell_type": "code",
   "execution_count": null,
   "id": "a5ec5eff",
   "metadata": {},
   "outputs": [],
   "source": [
    "# (4) GA instance is created and run:\n",
    "ga_instance = pygad.GA(num_generations=num_generations,\n",
    "                       num_parents_mating=num_parents_mating, \n",
    "                       fitness_func=fitness_function, \n",
    "                       sol_per_pop=sol_per_pop,\n",
    "                       num_genes=num_genes,\n",
    "                       init_range_low=init_range_low,\n",
    "                       init_range_high=init_range_high,\n",
    "                       parent_selection_type=parent_selection_type,\n",
    "                       keep_parents=keep_parents,\n",
    "                       crossover_type=crossover_type,\n",
    "                       mutation_type=mutation_type,\n",
    "                       mutation_percent_genes=mutation_percent_genes,\n",
    "                       callback_generation=callback_generation)"
   ]
  },
  {
   "cell_type": "code",
   "execution_count": null,
   "id": "a417bced",
   "metadata": {
    "scrolled": true
   },
   "outputs": [],
   "source": [
    "# Running the GA to optimize the parameters of the function.\n",
    "ga_instance.run()"
   ]
  },
  {
   "cell_type": "code",
   "execution_count": null,
   "id": "8f1f9e1a",
   "metadata": {},
   "outputs": [],
   "source": [
    "ga_instance.plot_result()"
   ]
  },
  {
   "cell_type": "code",
   "execution_count": null,
   "id": "f2f38c3e",
   "metadata": {
    "scrolled": true
   },
   "outputs": [],
   "source": [
    "# Returning the details of the best solution.\n",
    "solution, solution_fitness, solution_idx = ga_instance.best_solution()\n",
    "print(\"Parameters of the best solution : {solution}\".format(solution=solution))\n",
    "print(\"Fitness value of the best solution = {solution_fitness}\".format(solution_fitness=solution_fitness)) \n",
    "print(\"Index of the best solution : {solution_idx}\".format(solution_idx=solution_idx))"
   ]
  },
  {
   "cell_type": "code",
   "execution_count": null,
   "id": "83c40a83",
   "metadata": {},
   "outputs": [],
   "source": [
    "# (6) The solution is confirmed launching Epanet:\n",
    "# Change a parameter value (demand at N8) and run the model again \n",
    "CHANGE_EMITTER_COEFFICIENT(inp_file,'N6',abs(solution[0])) \n",
    "wn = wntr.network.WaterNetworkModel(inp_file)\n",
    "sim = wntr.sim.EpanetSimulator(wn)\n",
    "results = sim.run_sim()\n",
    "pressure = results.node['pressure']\n",
    "presssure_at_2 = pressure.loc[:,'N6']\n",
    "print(presssure_at_2)\n",
    "#### read all population files and combine the results ### \n",
    "all_files=glob.glob(temp_dir+\"EC*\")"
   ]
  },
  {
   "cell_type": "code",
   "execution_count": null,
   "id": "495ff818",
   "metadata": {},
   "outputs": [],
   "source": [
    "for ii in range(len(all_files)): \n",
    "    df=pd.read_csv(all_files[ii]) \n",
    "    if ii==0:\n",
    "        df1=df \n",
    "    else:\n",
    "        df1=pd.concat([df1,df]) \n",
    "df1.to_csv(plots_dir+\"OPTIMIZATION_RESULTS_BY_POPULATION.csv\",index=False)\n",
    "\n",
    "#### read all generation files and combine the results ### \n",
    "all_files=glob.glob(temp_dir+\"GENERATION_*\")\n",
    "for ii in range(len(all_files)): \n",
    "    df=pd.read_csv(all_files[ii]) \n",
    "    if ii==0:\n",
    "        df2=df \n",
    "    else:\n",
    "        df2=pd.concat([df2,df]) \n",
    "df2.to_csv(plots_dir+\"OPTIMIZATION_RESULTS_BY_GENERATION.csv\",index=False)\n"
   ]
  },
  {
   "cell_type": "code",
   "execution_count": null,
   "id": "a1396a50",
   "metadata": {},
   "outputs": [],
   "source": [
    "df3=pd.merge(df2,df1,how='left',left_on='FITNESS_FUN',right_on='FITNESS_FUN') \n",
    "df3=df3.sort_values(by='FITNESS_FUN',ascending=True)"
   ]
  },
  {
   "cell_type": "code",
   "execution_count": null,
   "id": "22a19be1",
   "metadata": {},
   "outputs": [],
   "source": [
    "df3"
   ]
  },
  {
   "cell_type": "code",
   "execution_count": null,
   "id": "b9b9990a",
   "metadata": {},
   "outputs": [],
   "source": [
    "df3['FITNESS_FUN'].value_counts()"
   ]
  },
  {
   "cell_type": "code",
   "execution_count": null,
   "id": "ca6e1795",
   "metadata": {},
   "outputs": [],
   "source": [
    "solution"
   ]
  },
  {
   "cell_type": "code",
   "execution_count": null,
   "id": "e155bc56",
   "metadata": {},
   "outputs": [],
   "source": [
    "pressure"
   ]
  },
  {
   "cell_type": "code",
   "execution_count": null,
   "id": "e512fd96",
   "metadata": {},
   "outputs": [],
   "source": [
    "##### pressure vs Generation ###### 172\n",
    "xx=list(range(1,len(df3)+1))\n",
    "plt.plot(xx,list(df3['HEAD_NODE2']))\n",
    "plt.xlabel('GENERATION',fontsize=14) ### population\n",
    "plt.ylabel('PRESSURE (m)',fontsize=14)\n",
    "plt.title('PRESSURE vs GENERATION',fontsize=16)\n",
    "# plt.xticks(xx,list(pressure.columns))\n",
    "plt.show();\n",
    "plt.savefig(plots_dir+\"PRESSURE_VS_GENERATION.png\")\n",
    "plt.close()"
   ]
  },
  {
   "cell_type": "code",
   "execution_count": null,
   "id": "d3987e44",
   "metadata": {},
   "outputs": [],
   "source": [
    "#### pressure vs junction ######\n",
    "xx=list(range(1,len(list(pressure.columns))+1))\n",
    "plt.plot(xx,list(pressure.values[0,:]))\n",
    "plt.xlabel('JUNCTION ID',fontsize=14) ### population\n",
    "plt.ylabel('PRESSURE (m)',fontsize=14)\n",
    "plt.title('PRESSURE vs JUNCTION ID',fontsize=16)\n",
    "plt.xticks(xx,list(pressure.columns))\n",
    "plt.show();\n",
    "plt.savefig(plots_dir+\"HEAD_VS_JUNCTION.png\")\n",
    "plt.close()"
   ]
  },
  {
   "cell_type": "code",
   "execution_count": null,
   "id": "7e1a2de1",
   "metadata": {},
   "outputs": [],
   "source": [
    "######## fitness vs generations #######\n",
    "xx=list(range(1,len(df3)+1))\n",
    "plt.plot(xx,df3['EC'])\n",
    "plt.xlabel('GENERATIONS',fontsize=14) ### population\n",
    "plt.ylabel('EC',fontsize=14)\n",
    "plt.title('EC vs GENERATIONS',fontsize=16)\n",
    "plt.show();\n",
    "plt.savefig(plots_dir+\"EC_VS_GEN.png\")\n",
    "plt.close()"
   ]
  },
  {
   "cell_type": "code",
   "execution_count": null,
   "id": "bb1d4263",
   "metadata": {},
   "outputs": [],
   "source": [
    "xx=list(range(1,len(df3)+1))\n",
    "plt.plot(xx,df3['FITNESS_FUN'])\n",
    "plt.xlabel('GENERATIONS',fontsize=14) ### population\n",
    "plt.ylabel('FITNESS_FUN',fontsize=14)\n",
    "plt.title('FITNESS_FUN vs GENERATIONS',fontsize=16)\n",
    "plt.show();\n",
    "plt.savefig(plots_dir+\"FITNESS_FUN_VS_GEN.png\")\n",
    "plt.close()"
   ]
  },
  {
   "cell_type": "code",
   "execution_count": null,
   "id": "6b61e635",
   "metadata": {},
   "outputs": [],
   "source": [
    "xx=list(range(1,len(df3)+1))\n",
    "plt.plot(xx,df3['DEMAND_NODE2'])\n",
    "plt.xlabel('GENERATIONS',fontsize=14) ### population\n",
    "plt.ylabel('DEMAND (LPS)',fontsize=14)\n",
    "plt.title('DEMAND vs GENERATIONS',fontsize=16)\n",
    "plt.show();\n",
    "plt.savefig(plots_dir+\"DEMAND_VS_GEN.png\")\n",
    "plt.close()"
   ]
  },
  {
   "cell_type": "code",
   "execution_count": null,
   "id": "707b5657",
   "metadata": {},
   "outputs": [],
   "source": [
    "file = water_model.INP_FILE_PATH\n",
    "data = pd.read_csv(file, header=None,delimiter='\\t', )\n"
   ]
  },
  {
   "cell_type": "code",
   "execution_count": null,
   "id": "33edb1d5",
   "metadata": {},
   "outputs": [],
   "source": []
  }
 ],
 "metadata": {
  "kernelspec": {
   "display_name": "Python 3 (ipykernel)",
   "language": "python",
   "name": "python3"
  },
  "language_info": {
   "codemirror_mode": {
    "name": "ipython",
    "version": 3
   },
   "file_extension": ".py",
   "mimetype": "text/x-python",
   "name": "python",
   "nbconvert_exporter": "python",
   "pygments_lexer": "ipython3",
   "version": "3.8.8"
  }
 },
 "nbformat": 4,
 "nbformat_minor": 5
}
