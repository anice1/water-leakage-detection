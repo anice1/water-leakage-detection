{
 "cells": [
  {
   "cell_type": "markdown",
   "id": "2002c497",
   "metadata": {},
   "source": [
    "# Leak Location Optimization\n",
    "### Import Necessary Libraries"
   ]
  },
  {
   "cell_type": "code",
   "execution_count": 1,
   "id": "e70cc414",
   "metadata": {},
   "outputs": [],
   "source": [
    "import matplotlib.pyplot as plt \n",
    "import pandas as pd\n",
    "import numpy as np\n",
    "import pygad\n",
    "import numpy\n",
    "import glob\n",
    "import wntr\n",
    "import os"
   ]
  },
  {
   "cell_type": "code",
   "execution_count": 2,
   "id": "98643d51",
   "metadata": {},
   "outputs": [],
   "source": [
    "import warnings\n",
    "warnings.filterwarnings('ignore')"
   ]
  },
  {
   "cell_type": "code",
   "execution_count": 55,
   "id": "baec5aa0",
   "metadata": {},
   "outputs": [
    {
     "data": {
      "text/plain": [
       "['../temp/FITNESS_SOLUTION_0.12818641705620504.csv',\n",
       " '../temp/FITNESS_SOLUTION_1.3998393575096293.csv',\n",
       " '../temp/FITNESS_SOLUTION_0.42289344896704684.csv',\n",
       " '../temp/FITNESS_SOLUTION_0.5276513652039161.csv',\n",
       " '../temp/FITNESS_SOLUTION_1.3490236772261652.csv',\n",
       " '../temp/FITNESS_SOLUTION_0.4173560138112884.csv',\n",
       " '../temp/FITNESS_SOLUTION_0.2646256494244663.csv',\n",
       " '../temp/FITNESS_SOLUTION_0.31484920820215545.csv',\n",
       " '../temp/FITNESS_SOLUTION_0.17194962376373946.csv',\n",
       " '../temp/FITNESS_SOLUTION_0.6544895696268505.csv']"
      ]
     },
     "execution_count": 55,
     "metadata": {},
     "output_type": "execute_result"
    }
   ],
   "source": [
    "# wipe all solutions in the directory\n",
    "all_solutions = glob.glob('../temp/FITNESS_SOLUTION_*')\n",
    "all_generations = glob.glob('../temp/GENERATION_*')\n",
    "# for i in all_solutions:\n",
    "#     os.remove(i)\n",
    "# for j in all_generations:\n",
    "#     os.remove(j)\n",
    "\n",
    "\n",
    "# Uncomment and run the above code if you want to re-optimze this project otherwise, go ahead.\n",
    "# Recommendation: Uncomment and run the code if you want re-optimize."
   ]
  },
  {
   "cell_type": "code",
   "execution_count": 3,
   "id": "2c1343a8",
   "metadata": {},
   "outputs": [],
   "source": [
    "class Config:\n",
    "    num_generations =100 #Number of generations.\n",
    "    num_parents_mating = 1 # Number of solutions to be selected as parents in the mating pool.\n",
    "    sol_per_pop = 20 # Number of solutions in the population.\n",
    "    num_genes = 1 #len(function_inputs) --> this can be an array\n",
    "    init_range_low = 0\n",
    "    init_range_high = 1\n",
    "    parent_selection_type = \"sss\" # Type of parent selection.\n",
    "    keep_parents = -1 # Number of parents to keep in the next population. -1 means keep all parents and 0 means keep nothing.\n",
    "    crossover_type = \"single_point\" # Type of the crossover operator. \n",
    "    mutation_type = \"random\" # Type of the mutation operator.\n",
    "    mutation_num_genes=1 # Type of the mutation operator.\n",
    "    last_fitness = 0\n",
    "    \n",
    "    INP_FILE_PATH = r\"../data/Real_Synthetic_Net.inp\" \n",
    "    TEMP_DIR = \"../temp/\"\n",
    "    PLOTS_DIR = \"../plots\"\n",
    "    FUNCTION_INPUTS = None\n",
    "    DESIRED_OUTPUT = None"
   ]
  },
  {
   "cell_type": "code",
   "execution_count": 4,
   "id": "d3d661b5",
   "metadata": {},
   "outputs": [],
   "source": [
    "class WaterLeakModel(Config):\n",
    "    \n",
    "    def __init__(self, node:str):\n",
    "        ''' \n",
    "            node: node/junction ID in the network\n",
    "        '''\n",
    "        self.node = node\n",
    "        \n",
    "        # Check if node is junction_name \n",
    "        wn = wntr.network.WaterNetworkModel(self.INP_FILE_PATH)\n",
    "        assert wn.junction_name_list.count(node) == 1, \"Node not found in the network\"\n",
    "        self.node_index = wn.junction_name_list.index(node)\n",
    "    \n",
    "    def simulate(self, wn, plot_graph=True):\n",
    "        \"\"\"\n",
    "        If plot_graph is set to true, a graph of the network is plotted after simulation\n",
    "        \"\"\"\n",
    "        # Plot pressure after add leak to node\n",
    "            \n",
    "        sim = wntr.sim.WNTRSimulator(wn)\n",
    "        results = sim.run_sim()\n",
    "        pressure = results.node['pressure']\n",
    "        pressure_at_N6 = pressure.loc[:,wn.junction_name_list[self.node_index]]\n",
    "        if plot_graph:\n",
    "            wntr.graphics.plot_network(wn, node_attribute=pressure.any(), node_size=150, title='Pressure at 0 hours')\n",
    "        \n",
    "        return results\n",
    "    \n",
    "    def change_discharge_coefficient(self, wn, emitter_value):\n",
    "        \"\"\"\n",
    "        This function changes the emitter coefficient for selected node in the network, and create a \n",
    "        structured representation of our data, a csv.\n",
    "        \n",
    "        parameters\n",
    "        ----------\n",
    "        emitter_value: the emitter coefficient value\n",
    "        \"\"\"\n",
    "\n",
    "        node = wn.get_node(str(self.node))\n",
    "        node.add_leak(wn, area=0.00015, start_time=0, end_time=1, discharge_coeff=emitter_value)\n",
    "        return self.simulate(wn, plot_graph=False)\n",
    "    \n",
    "    def export_results(self, solutions:list, path:str, name:str):\n",
    "        \"\"\"\n",
    "        Concatenates all solutions generated and exports as a single csv file\n",
    "        \n",
    "        parameters\n",
    "        ----------\n",
    "        solution: a list of all paths to the solutions csv files\n",
    "        path: path where concatenated solution will be exported to\n",
    "        name: name to be assigned to exported file\n",
    "        \"\"\"\n",
    "        if not os.path.exists(path):\n",
    "            os.mkdir(path)\n",
    "        \n",
    "        temp = pd.DataFrame()\n",
    "        for i in range(len(solutions)):\n",
    "            data = pd.read_csv(solutions[i])\n",
    "            if i == 0:\n",
    "                temp = data\n",
    "            else:\n",
    "                temp = pd.concat([temp, data])\n",
    "        name+=\".csv\"\n",
    "        try:\n",
    "            temp.to_csv(os.path.join(path,name),index=False)\n",
    "            print(f'File Exported Successfully to path: {os.path.join(path, name)}')\n",
    "        except Exception as e:\n",
    "            print(e)\n",
    "        "
   ]
  },
  {
   "cell_type": "code",
   "execution_count": 5,
   "id": "5250baa7",
   "metadata": {},
   "outputs": [
    {
     "data": {
      "image/png": "[encoded data removed]",
      "text/plain": [
       "<Figure size 432x288 with 2 Axes>"
      ]
     },
     "metadata": {},
     "output_type": "display_data"
    }
   ],
   "source": [
    "# Instantiate the pygad optimization class\n",
    "water_model = WaterLeakModel(node='N6')\n",
    "water_model.num_generations = 100\n",
    "\n",
    "# Add leak and simulate\n",
    "wn = wntr.network.WaterNetworkModel(water_model.INP_FILE_PATH)\n",
    "node = wn.get_node('N6')\n",
    "node.add_leak(wn, area=0.00015, start_time=0, end_time=1, discharge_coeff=.5)\n",
    "water_model.simulate(wn, plot_graph=True)\n",
    "\n",
    "water_model.FUNCTION_INPUTS = 0.5\n",
    "water_model.DESIRED_OUTPUT = node.head - node.elevation"
   ]
  },
  {
   "cell_type": "markdown",
   "id": "e88586a4",
   "metadata": {},
   "source": [
    "> **The node with the highest fitness is considered to have a leak.**"
   ]
  },
  {
   "cell_type": "code",
   "execution_count": 12,
   "id": "3b317dee",
   "metadata": {},
   "outputs": [],
   "source": [
    "water_model = WaterLeakModel(node='N6')\n",
    "config = Config()"
   ]
  },
  {
   "cell_type": "code",
   "execution_count": 51,
   "id": "cc158038",
   "metadata": {},
   "outputs": [],
   "source": [
    "desired_output = 26.5\n",
    "function_input = 0.5\n",
    "all_nodes = wn.junction_name_list\n",
    "data=pd.DataFrame(columns=['NODE','EMITTER_COEFFICIENT','OUTPUT','FITNESS']) "
   ]
  },
  {
   "cell_type": "code",
   "execution_count": 52,
   "id": "27276883",
   "metadata": {},
   "outputs": [],
   "source": [
    "for i in range(len(all_nodes)):\n",
    "    wn = wntr.network.WaterNetworkModel(water_model.INP_FILE_PATH)\n",
    "    water_model = WaterLeakModel(node=wn.junction_name_list[i])\n",
    "    results = water_model.change_discharge_coefficient(wn, emitter_value=function_input)\n",
    "    pressure = results.node['pressure']\n",
    "    output = pressure.loc[:,'N6']\n",
    "    fitness = 1.0 / (np.abs(output - desired_output) + 0.000001)\n",
    "    \n",
    "    data=data.append({'NODE':all_nodes[i],'EMITTER_COEFFICIENT':function_input,'OUTPUT':list(output)[0],'FITNESS':list(fitness)[0]},ignore_index=True)\n",
    "    data=data.sort_values(by='FITNESS',ascending=False)\n",
    "    data=data.reset_index(drop=True)"
   ]
  },
  {
   "cell_type": "code",
   "execution_count": 53,
   "id": "05c95153",
   "metadata": {},
   "outputs": [
    {
     "data": {
      "text/html": [
       "<div>\n",
       "<style scoped>\n",
       "    .dataframe tbody tr th:only-of-type {\n",
       "        vertical-align: middle;\n",
       "    }\n",
       "\n",
       "    .dataframe tbody tr th {\n",
       "        vertical-align: top;\n",
       "    }\n",
       "\n",
       "    .dataframe thead th {\n",
       "        text-align: right;\n",
       "    }\n",
       "</style>\n",
       "<table border=\"1\" class=\"dataframe\">\n",
       "  <thead>\n",
       "    <tr style=\"text-align: right;\">\n",
       "      <th></th>\n",
       "      <th>NODE</th>\n",
       "      <th>EMITTER_COEFFICIENT</th>\n",
       "      <th>OUTPUT</th>\n",
       "      <th>FITNESS</th>\n",
       "    </tr>\n",
       "  </thead>\n",
       "  <tbody>\n",
       "    <tr>\n",
       "      <th>0</th>\n",
       "      <td>N6</td>\n",
       "      <td>0.5</td>\n",
       "      <td>26.540357</td>\n",
       "      <td>24.777989</td>\n",
       "    </tr>\n",
       "    <tr>\n",
       "      <th>1</th>\n",
       "      <td>N7</td>\n",
       "      <td>0.5</td>\n",
       "      <td>26.545955</td>\n",
       "      <td>21.759754</td>\n",
       "    </tr>\n",
       "    <tr>\n",
       "      <th>2</th>\n",
       "      <td>N16</td>\n",
       "      <td>0.5</td>\n",
       "      <td>26.545978</td>\n",
       "      <td>21.748840</td>\n",
       "    </tr>\n",
       "    <tr>\n",
       "      <th>3</th>\n",
       "      <td>N13</td>\n",
       "      <td>0.5</td>\n",
       "      <td>26.548399</td>\n",
       "      <td>20.661012</td>\n",
       "    </tr>\n",
       "    <tr>\n",
       "      <th>4</th>\n",
       "      <td>N8</td>\n",
       "      <td>0.5</td>\n",
       "      <td>26.554113</td>\n",
       "      <td>18.479601</td>\n",
       "    </tr>\n",
       "    <tr>\n",
       "      <th>5</th>\n",
       "      <td>N12</td>\n",
       "      <td>0.5</td>\n",
       "      <td>26.555828</td>\n",
       "      <td>17.911717</td>\n",
       "    </tr>\n",
       "    <tr>\n",
       "      <th>6</th>\n",
       "      <td>N9</td>\n",
       "      <td>0.5</td>\n",
       "      <td>26.557455</td>\n",
       "      <td>17.404645</td>\n",
       "    </tr>\n",
       "    <tr>\n",
       "      <th>7</th>\n",
       "      <td>N14</td>\n",
       "      <td>0.5</td>\n",
       "      <td>26.557721</td>\n",
       "      <td>17.324433</td>\n",
       "    </tr>\n",
       "    <tr>\n",
       "      <th>8</th>\n",
       "      <td>N4</td>\n",
       "      <td>0.5</td>\n",
       "      <td>26.564291</td>\n",
       "      <td>15.553999</td>\n",
       "    </tr>\n",
       "    <tr>\n",
       "      <th>9</th>\n",
       "      <td>N3</td>\n",
       "      <td>0.5</td>\n",
       "      <td>26.565786</td>\n",
       "      <td>15.200656</td>\n",
       "    </tr>\n",
       "    <tr>\n",
       "      <th>10</th>\n",
       "      <td>N2</td>\n",
       "      <td>0.5</td>\n",
       "      <td>26.572414</td>\n",
       "      <td>13.809374</td>\n",
       "    </tr>\n",
       "    <tr>\n",
       "      <th>11</th>\n",
       "      <td>N10</td>\n",
       "      <td>0.5</td>\n",
       "      <td>26.574102</td>\n",
       "      <td>13.494796</td>\n",
       "    </tr>\n",
       "    <tr>\n",
       "      <th>12</th>\n",
       "      <td>N15</td>\n",
       "      <td>0.5</td>\n",
       "      <td>26.574125</td>\n",
       "      <td>13.490454</td>\n",
       "    </tr>\n",
       "    <tr>\n",
       "      <th>13</th>\n",
       "      <td>N11</td>\n",
       "      <td>0.5</td>\n",
       "      <td>26.575295</td>\n",
       "      <td>13.280946</td>\n",
       "    </tr>\n",
       "    <tr>\n",
       "      <th>14</th>\n",
       "      <td>N5</td>\n",
       "      <td>0.5</td>\n",
       "      <td>26.578032</td>\n",
       "      <td>12.815140</td>\n",
       "    </tr>\n",
       "    <tr>\n",
       "      <th>15</th>\n",
       "      <td>N1</td>\n",
       "      <td>0.5</td>\n",
       "      <td>26.602308</td>\n",
       "      <td>9.774273</td>\n",
       "    </tr>\n",
       "  </tbody>\n",
       "</table>\n",
       "</div>"
      ],
      "text/plain": [
       "   NODE  EMITTER_COEFFICIENT     OUTPUT    FITNESS\n",
       "0    N6                  0.5  26.540357  24.777989\n",
       "1    N7                  0.5  26.545955  21.759754\n",
       "2   N16                  0.5  26.545978  21.748840\n",
       "3   N13                  0.5  26.548399  20.661012\n",
       "4    N8                  0.5  26.554113  18.479601\n",
       "5   N12                  0.5  26.555828  17.911717\n",
       "6    N9                  0.5  26.557455  17.404645\n",
       "7   N14                  0.5  26.557721  17.324433\n",
       "8    N4                  0.5  26.564291  15.553999\n",
       "9    N3                  0.5  26.565786  15.200656\n",
       "10   N2                  0.5  26.572414  13.809374\n",
       "11  N10                  0.5  26.574102  13.494796\n",
       "12  N15                  0.5  26.574125  13.490454\n",
       "13  N11                  0.5  26.575295  13.280946\n",
       "14   N5                  0.5  26.578032  12.815140\n",
       "15   N1                  0.5  26.602308   9.774273"
      ]
     },
     "execution_count": 53,
     "metadata": {},
     "output_type": "execute_result"
    }
   ],
   "source": [
    "data"
   ]
  },
  {
   "cell_type": "code",
   "execution_count": 54,
   "id": "beb71aab",
   "metadata": {},
   "outputs": [
    {
     "data": {
      "image/png": "[encoded data removed]",
      "text/plain": [
       "<Figure size 720x360 with 1 Axes>"
      ]
     },
     "metadata": {
      "needs_background": "light"
     },
     "output_type": "display_data"
    }
   ],
   "source": [
    "plt.figure(figsize=(10,5))\n",
    "plt.plot(df['NODE'],df['FITNESS'])\n",
    "\n",
    "plt.xlabel('NODE ',fontsize=14)\n",
    "plt.ylabel('FITNESS',fontsize=14)\n",
    "\n",
    "plt.title('Fitness Across Nodes',fontsize=16)\n",
    "plt.savefig(f\"{water_model.TEMP_DIR}/node_fitness.png\")"
   ]
  },
  {
   "cell_type": "markdown",
   "id": "6f3d6479",
   "metadata": {},
   "source": [
    "After our optimization it was proven that the leak node was `NODE 6` since node 6 has the highest fitness"
   ]
  },
  {
   "cell_type": "code",
   "execution_count": null,
   "id": "602b396d",
   "metadata": {},
   "outputs": [],
   "source": []
  }
 ],
 "metadata": {
  "kernelspec": {
   "display_name": "Python 3 (ipykernel)",
   "language": "python",
   "name": "python3"
  },
  "language_info": {
   "codemirror_mode": {
    "name": "ipython",
    "version": 3
   },
   "file_extension": ".py",
   "mimetype": "text/x-python",
   "name": "python",
   "nbconvert_exporter": "python",
   "pygments_lexer": "ipython3",
   "version": "3.8.8"
  }
 },
 "nbformat": 4,
 "nbformat_minor": 5
}
