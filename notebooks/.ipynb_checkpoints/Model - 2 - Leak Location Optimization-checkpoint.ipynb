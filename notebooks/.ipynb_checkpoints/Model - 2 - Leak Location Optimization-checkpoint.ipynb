{
 "cells": [
  {
   "cell_type": "markdown",
   "id": "2002c497",
   "metadata": {},
   "source": [
    "# Leak Location Optimization\n",
    "### Import Necessary Libraries"
   ]
  },
  {
   "cell_type": "code",
   "execution_count": 15,
   "id": "e70cc414",
   "metadata": {},
   "outputs": [],
   "source": [
    "import matplotlib.pyplot as plt \n",
    "import pandas as pd\n",
    "import numpy as np\n",
    "import pygad\n",
    "import numpy\n",
    "import glob\n",
    "import wntr\n",
    "import os"
   ]
  },
  {
   "cell_type": "code",
   "execution_count": 16,
   "id": "a7fb0aa7",
   "metadata": {},
   "outputs": [],
   "source": [
    "plt.rcParams['figure.figsize'] = (12,8)"
   ]
  },
  {
   "cell_type": "code",
   "execution_count": 17,
   "id": "98643d51",
   "metadata": {},
   "outputs": [],
   "source": [
    "import warnings\n",
    "warnings.filterwarnings('ignore')"
   ]
  },
  {
   "cell_type": "code",
   "execution_count": 26,
   "id": "2c1343a8",
   "metadata": {},
   "outputs": [],
   "source": [
    "class Config:\n",
    "    num_generations =100 #Number of generations.\n",
    "    num_parents_mating = 1 # Number of solutions to be selected as parents in the mating pool.\n",
    "    sol_per_pop = 20 # Number of solutions in the population.\n",
    "    num_genes = 1 #len(function_inputs) --> this can be an array\n",
    "    init_range_low = 0\n",
    "    init_range_high = 1\n",
    "    parent_selection_type = \"sss\" # Type of parent selection.\n",
    "    keep_parents = -1 # Number of parents to keep in the next population. -1 means keep all parents and 0 means keep nothing.\n",
    "    crossover_type = \"single_point\" # Type of the crossover operator. \n",
    "    mutation_type = \"random\" # Type of the mutation operator.\n",
    "    mutation_num_genes=1 # Type of the mutation operator.\n",
    "    last_fitness = 0\n",
    "    \n",
    "    INP_FILE_PATH = r\"../data/Real_Synthetic_Net.inp\" \n",
    "    TEMP_DIR = \"../temp/\"\n",
    "    PLOTS_DIR = \"../plots\"\n",
    "    FUNCTION_INPUTS = None\n",
    "    DESIRED_OUTPUT = None"
   ]
  },
  {
   "cell_type": "code",
   "execution_count": 102,
   "id": "d3d661b5",
   "metadata": {},
   "outputs": [],
   "source": [
    "class WaterLeakModel(Config):\n",
    "    \n",
    "    def __init__(self, node:str):\n",
    "        ''' \n",
    "            node: node/junction ID in the network\n",
    "        '''\n",
    "        \n",
    "        # Check if node is junction_name \n",
    "        wn = wntr.network.WaterNetworkModel(self.INP_FILE_PATH)\n",
    "        assert wn.junction_name_list.count(node) == 1, \"Node not found in the network\"\n",
    "        self.node_index = wn.junction_name_list.index(node)\n",
    "        \n",
    "        self.node = node\n",
    "        \n",
    "    \n",
    "    def simulate(self, wn, plot_graph=True):\n",
    "        \"\"\"\n",
    "        If plot_graph is set to true, a graph of the network is plotted after simulation\n",
    "        \"\"\"\n",
    "        # Plot pressure after add leak to node\n",
    "            \n",
    "        sim = wntr.sim.WNTRSimulator(wn)\n",
    "        results = sim.run_sim()\n",
    "        pressure = results.node['pressure']\n",
    "        pressure_at_N6 = pressure.loc[:,wn.junction_name_list[self.node_index]]\n",
    "        if plot_graph:\n",
    "            wntr.graphics.plot_network(wn, node_attribute=pressure.any(), node_size=150, title='Pressure at 0 hours')\n",
    "        \n",
    "        return results\n",
    "    \n",
    "    def change_discharge_coefficient(self, wn, emitter_value):\n",
    "        \"\"\"\n",
    "        This function changes the emitter coefficient for selected node in the network, and create a \n",
    "        structured representation of our data, a csv.\n",
    "        \n",
    "        parameters\n",
    "        ----------\n",
    "        wn: wntr network object\n",
    "        emitter_value: the emitter coefficient value\n",
    "        \"\"\"\n",
    "        \n",
    "        # Change emitter coefficient\n",
    "        node = wn.get_node(str(self.node))\n",
    "        node.add_leak(wn, area=0.00015, start_time=0, end_time=1, discharge_coeff=emitter_value)\n",
    "        return self.simulate(wn, plot_graph=False)\n",
    "    \n",
    "    def export_results(self, solutions:list, path:str, name:str):\n",
    "        \"\"\"\n",
    "        Concatenates all solutions generated and exports as a single csv file\n",
    "        \n",
    "        parameters\n",
    "        ----------\n",
    "        solution: a list of all paths to the solutions csv files\n",
    "        path: path where concatenated solution will be exported to\n",
    "        name: name to be assigned to exported file\n",
    "        \"\"\"\n",
    "        if not os.path.exists(path):\n",
    "            os.mkdir(path)\n",
    "        \n",
    "        temp = pd.DataFrame()\n",
    "        for i in range(len(solutions)):\n",
    "            data = pd.read_csv(solutions[i])\n",
    "            if i == 0:\n",
    "                temp = data\n",
    "            else:\n",
    "                temp = pd.concat([temp, data])\n",
    "        name+=\".csv\"\n",
    "        try:\n",
    "            temp.to_csv(os.path.join(path,name),index=False)\n",
    "            print(f'File Exported Successfully to path: {os.path.join(path, name)}')\n",
    "        except Exception as e:\n",
    "            print(e)\n",
    "            \n",
    "    def run(self, leak_area=0.00015, start_time=0, end_time=1, discharge_coeff=.5, function_inputs=0.5, plot_graph=True):\n",
    "        \"\"\"\n",
    "        Adds a leak to node passed to WaterLeakModel() object and simulates\n",
    "        \n",
    "        parameters\n",
    "        ----------\n",
    "        leak_area: area of the leak\n",
    "        start_time: time in seconds to start the leak\n",
    "        end_time: time in seconds to end the leak\n",
    "        discharge_coeff: Leak discharge coefficient; Takes on values between 0 and 1.\n",
    "        function_inputs = inputs for optimization, can be array of numbers\n",
    "        plot_graph: If plot_graph is set to true, a graph of the network is plotted after simulation\n",
    "        \"\"\"\n",
    "        # Add leak and simulate\n",
    "        wn = wntr.network.WaterNetworkModel(self.INP_FILE_PATH)\n",
    "        node = wn.get_node(self.node)\n",
    "        node.add_leak(wn, area=leak_area, start_time=start_time, end_time=end_time, discharge_coeff=.5)\n",
    "        self.simulate(wn, plot_graph=plot_graph)\n",
    "\n",
    "        self.FUNCTION_INPUTS = function_inputs\n",
    "        self.DESIRED_OUTPUT = node.head - node.elevation\n",
    "        \n",
    "    def validate_leak_result(self, junction_id, emitter_coeff=0.5, description='Leak location'):\n",
    "        \"\"\"\n",
    "        Detects leak location\n",
    "        \n",
    "        parameters\n",
    "        ----------\n",
    "        junction_id: the node in the network\n",
    "        emitter_coeff: any assumed value of leak size\n",
    "        description: the title for the plot\n",
    "        \"\"\"\n",
    "        # keep emitter_coeff within the range of 0-1\n",
    "        if emitter_coeff > 1:\n",
    "            emitter_coeff = emitter_coeff%1\n",
    "            \n",
    "        wn = wntr.network.WaterNetworkModel(self.INP_FILE_PATH)\n",
    "        node = wn.get_node(junction_id)\n",
    "        #simulate the network after getting the node\n",
    "        self.simulate(wn, plot_graph=False)\n",
    "        \n",
    "        desired_output = node.head - node.elevation\n",
    "        all_nodes = wn.junction_name_list\n",
    "        \n",
    "        data=pd.DataFrame(columns=['NODE','EMITTER_COEFFICIENT','PRESSURE_OUTPUT','FITNESS']) \n",
    "        \n",
    "        for i in range(len(all_nodes)):\n",
    "            wn = wntr.network.WaterNetworkModel(self.INP_FILE_PATH)\n",
    "            self.node = wn.junction_name_list[i]\n",
    "            if self.node == junction_id:\n",
    "                emitter_coeff = emitter_coeff\n",
    "            else:\n",
    "                \n",
    "            results = self.change_discharge_coefficient(wn, emitter_value=emitter_coeff)\n",
    "            pressure = results.node['pressure']\n",
    "            pressure_output = pressure.loc[:,self.node]\n",
    "            fitness = 1.0 / (np.abs(pressure_output - desired_output) + 0.000001)\n",
    "\n",
    "            data=data.append({'NODE':all_nodes[i],'EMITTER_COEFFICIENT':emitter_coeff,'PRESSURE_OUTPUT':list(pressure_output)[0],'FITNESS':list(fitness)[0]},ignore_index=True)\n",
    "            data=data.sort_values(by='FITNESS',ascending=False)\n",
    "            data=data.reset_index(drop=True)\n",
    "            \n",
    "        plt.figure(figsize=(10,5))\n",
    "        plt.bar(data['NODE'],data['FITNESS'])\n",
    "\n",
    "        plt.xlabel('NODE ',fontsize=14)\n",
    "        plt.ylabel('FITNESS',fontsize=14)\n",
    "\n",
    "        plt.title(description,fontsize=16)\n",
    "        plt.savefig(f\"{self.PLOTS_DIR}/leak_location_validation_{node}_.png\")\n",
    "        return data"
   ]
  },
  {
   "cell_type": "code",
   "execution_count": 103,
   "id": "5250baa7",
   "metadata": {},
   "outputs": [
    {
     "data": {
      "image/png": "[encoded data removed]",
      "text/plain": [
       "<Figure size 864x576 with 2 Axes>"
      ]
     },
     "metadata": {},
     "output_type": "display_data"
    }
   ],
   "source": [
    "# Instantiate the pygad optimization class\n",
    "water_model = WaterLeakModel(node='N6')\n",
    "water_model.run()"
   ]
  },
  {
   "cell_type": "markdown",
   "id": "e88586a4",
   "metadata": {},
   "source": [
    "> **The node with the highest fitness is considered to have a leak.**"
   ]
  },
  {
   "cell_type": "code",
   "execution_count": 104,
   "id": "9f4ebf5f",
   "metadata": {
    "scrolled": true
   },
   "outputs": [
    {
     "data": {
      "text/html": [
       "<div>\n",
       "<style scoped>\n",
       "    .dataframe tbody tr th:only-of-type {\n",
       "        vertical-align: middle;\n",
       "    }\n",
       "\n",
       "    .dataframe tbody tr th {\n",
       "        vertical-align: top;\n",
       "    }\n",
       "\n",
       "    .dataframe thead th {\n",
       "        text-align: right;\n",
       "    }\n",
       "</style>\n",
       "<table border=\"1\" class=\"dataframe\">\n",
       "  <thead>\n",
       "    <tr style=\"text-align: right;\">\n",
       "      <th></th>\n",
       "      <th>N1</th>\n",
       "      <th>N5</th>\n",
       "      <th>N10</th>\n",
       "      <th>N7</th>\n",
       "      <th>N2</th>\n",
       "      <th>N6</th>\n",
       "      <th>N3</th>\n",
       "      <th>N8</th>\n",
       "      <th>N13</th>\n",
       "      <th>N9</th>\n",
       "      <th>N14</th>\n",
       "      <th>N4</th>\n",
       "      <th>N11</th>\n",
       "      <th>N12</th>\n",
       "      <th>N15</th>\n",
       "      <th>N16</th>\n",
       "      <th>Reservior</th>\n",
       "    </tr>\n",
       "  </thead>\n",
       "  <tbody>\n",
       "    <tr>\n",
       "      <th>0</th>\n",
       "      <td>9.343952</td>\n",
       "      <td>23.983298</td>\n",
       "      <td>28.929754</td>\n",
       "      <td>27.015035</td>\n",
       "      <td>24.820801</td>\n",
       "      <td>26.545978</td>\n",
       "      <td>26.998864</td>\n",
       "      <td>24.95954</td>\n",
       "      <td>30.395603</td>\n",
       "      <td>24.192659</td>\n",
       "      <td>24.881406</td>\n",
       "      <td>28.914152</td>\n",
       "      <td>27.801691</td>\n",
       "      <td>24.388567</td>\n",
       "      <td>28.925708</td>\n",
       "      <td>26.997845</td>\n",
       "      <td>0.0</td>\n",
       "    </tr>\n",
       "  </tbody>\n",
       "</table>\n",
       "</div>"
      ],
      "text/plain": [
       "         N1         N5        N10         N7         N2         N6         N3  \\\n",
       "0  9.343952  23.983298  28.929754  27.015035  24.820801  26.545978  26.998864   \n",
       "\n",
       "         N8        N13         N9        N14         N4        N11        N12  \\\n",
       "0  24.95954  30.395603  24.192659  24.881406  28.914152  27.801691  24.388567   \n",
       "\n",
       "         N15        N16  Reservior  \n",
       "0  28.925708  26.997845        0.0  "
      ]
     },
     "execution_count": 104,
     "metadata": {},
     "output_type": "execute_result"
    }
   ],
   "source": [
    "pressure"
   ]
  },
  {
   "cell_type": "code",
   "execution_count": 107,
   "id": "e26872a6",
   "metadata": {},
   "outputs": [
    {
     "data": {
      "image/png": "[encoded data removed]",
      "text/plain": [
       "<Figure size 720x360 with 1 Axes>"
      ]
     },
     "metadata": {
      "needs_background": "light"
     },
     "output_type": "display_data"
    }
   ],
   "source": [
    "data = water_model.validate_leak_result('N4')"
   ]
  },
  {
   "cell_type": "markdown",
   "id": "622aabcc",
   "metadata": {},
   "source": [
    "## Add Leak in a Random Node \n",
    "\n",
    "This is to validate that our model can detect leak in another "
   ]
  },
  {
   "cell_type": "code",
   "execution_count": null,
   "id": "c7072f72",
   "metadata": {},
   "outputs": [],
   "source": [
    "selected_nodeid =int(data.index[data['FITNESS_FUN']==max(data['FITNESS_FUN'])].tolist()[0]) \n",
    "###### select the generations for the node where fitness is highest ## \n",
    "df6=data[data['JUNCTION_ID']==selected_nodeid] \n",
    "df6=df6.sort_values(by='FITNESS_FUN',ascending=True)\n",
    "print ('The fitness function...',df1['FITNESS_FUN'].values[len(df1)-1])\n",
    "print ('The EC value ...',df1['EC'].values[len(df1)-1],' at junction id...',df1['JUNCTION_ID'].values[len(df1)-1]) \n",
    "\n",
    "\n",
    "######## fitness vs junction ####### \n",
    "xx=list(range(1,len(data)+1)) \n",
    "plt.plot(xx,df5['FITNESS_FUN'])\n",
    "plt.xlabel('JUNCTION ID',fontsize=14) ### population \n",
    "plt.ylabel('FITNESS_FUN',fontsize=14) \n",
    "plt.title('FITNESS_FUN vs JUNCTION ID',fontsize=16) \n",
    "plt.savefig(plots_dir+\"FITNESS_FUN_VS_JUNCTION.png\") \n",
    "plt.close()"
   ]
  },
  {
   "cell_type": "code",
   "execution_count": null,
   "id": "f3c3212b",
   "metadata": {},
   "outputs": [],
   "source": []
  },
  {
   "cell_type": "code",
   "execution_count": null,
   "id": "b72c3632",
   "metadata": {},
   "outputs": [],
   "source": []
  }
 ],
 "metadata": {
  "kernelspec": {
   "display_name": "Python 3 (ipykernel)",
   "language": "python",
   "name": "python3"
  },
  "language_info": {
   "codemirror_mode": {
    "name": "ipython",
    "version": 3
   },
   "file_extension": ".py",
   "mimetype": "text/x-python",
   "name": "python",
   "nbconvert_exporter": "python",
   "pygments_lexer": "ipython3",
   "version": "3.8.8"
  }
 },
 "nbformat": 4,
 "nbformat_minor": 5
}
