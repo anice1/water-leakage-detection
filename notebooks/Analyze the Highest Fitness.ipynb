{
 "cells": [
  {
   "cell_type": "code",
   "execution_count": 2,
   "id": "1de18672",
   "metadata": {},
   "outputs": [],
   "source": [
    "import matplotlib.pyplot as plt\n",
    "import pygad\n",
    "import wntr\n",
    "import pandas as pd\n",
    "import numpy as np\n",
    "import glob\n",
    "import os"
   ]
  },
  {
   "cell_type": "code",
   "execution_count": null,
   "id": "2450eb3b",
   "metadata": {},
   "outputs": [],
   "source": [
    "temp_directory = 'optimization-results-csvs'\n"
   ]
  },
  {
   "cell_type": "code",
   "execution_count": null,
   "id": "71a29089",
   "metadata": {},
   "outputs": [],
   "source": [
    "\n",
    "#combining all solution wise file #reading all files\n",
    "#Adding info to df1\n",
    "df1.to_csv(plots_dir+\"OPTIMIZATION_RESULTS_BY_SOLUTION.csv\",index=False) #solution wise results to OPTIMIZATION_RESULTS_BY_POPULATION.csv file\n",
    "df1=df1.sort_values(by='FITNESS_FUN',ascending=True)\n",
    "\n",
    "#### read all generation files and combine the results ### \n",
    "all_files=glob.glob(temp_dir+\"GENERATION_*\")\n",
    "df2.to_csv(plots_dir+\"OPTIMIZATION_RESULTS_BY_GENERATION.csv\",index=False) \n",
    "df2=df2.sort_values(by='JUNCTION_ID',ascending=True)\n",
    "df4=pd.merge(df2,df1,how='outer',left_on='FITNESS_FUN',right_on='FITNESS_FUN')\n",
    "\n",
    "df5=df4.groupby(['JUNCTION_ID_x'],sort=True)['FITNESS_FUN'].max() \n",
    "df5=df5.to_frame()\n",
    "selected_nodeid=int(df5.index[df5['FITNESS_FUN']==max(df5['FITNESS_FUN'])].tolist()[0]) \n",
    "\n",
    "###### select the generations for the node where fitness is highest ## \n",
    "df6=df2[df2['JUNCTION_ID']==selected_nodeid] \n",
    "df6=df6.sort_values(by='FITNESS_FUN',ascending=True)\n",
    "print ('The fitness function...',df1['FITNESS_FUN'].values[len(df1)-1])\n",
    "print ('The EC value ...',df1['EC'].values[len(df1)-1],' at junction id...',df1['JUNCTION_ID'].values[len(df1)-1])\n",
    "\n",
    "######## fitness vs junction ####### \n",
    "xx=list(range(1,len(df5)+1)) \n",
    "plt.plot(xx,df5['FITNESS_FUN'])\n",
    "plt.xlabel('JUNCTION ID',fontsize=14) ### population \n",
    "plt.ylabel('FITNESS_FUN',fontsize=14) \n",
    "plt.title('FITNESS_FUN vs JUNCTION ID',fontsize=16) \n",
    "plt.savefig(plots_dir+\"FITNESS_FUN_VS_JUNCTION.png\") \n",
    "plt.close()\n",
    "\n",
    "       \n",
    "###### Fitness vs Generation at selected node #### \n",
    "xx=list(range(1,len(df6)+1))\n",
    "plt.plot(xx,df6['FITNESS_FUN']) plt.xlabel('GENERATION',fontsize=14) ### population \n",
    "plt.ylabel('FITNESS_FUN',fontsize=14)\n",
    "plt.title('FITNESS_FUN vs GENERATION',fontsize=16) \n",
    "plt.savefig(plots_dir+\"FITNESS_FUN_VS_GENERATION.png\") \n",
    "plt.close()"
   ]
  }
 ],
 "metadata": {
  "kernelspec": {
   "display_name": "Python 3 (ipykernel)",
   "language": "python",
   "name": "python3"
  },
  "language_info": {
   "codemirror_mode": {
    "name": "ipython",
    "version": 3
   },
   "file_extension": ".py",
   "mimetype": "text/x-python",
   "name": "python",
   "nbconvert_exporter": "python",
   "pygments_lexer": "ipython3",
   "version": "3.8.8"
  }
 },
 "nbformat": 4,
 "nbformat_minor": 5
}
